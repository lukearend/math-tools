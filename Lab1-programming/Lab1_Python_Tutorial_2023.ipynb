{
 "cells": [
  {
   "cell_type": "markdown",
   "id": "41c8ddbd",
   "metadata": {},
   "source": [
    "# Lab 2 - September 9, 2022"
   ]
  },
  {
   "cell_type": "markdown",
   "id": "2d0da62e-2abc-4474-b035-ba4e670ccc05",
   "metadata": {},
   "source": [
    "## Starting a new piece of code!\n",
    "\n",
    "It's important that your code is clean, replicable, and readable by you and others. At the top of a notebook, we should always write a few comments about who wrote the script, when they did it, and why. It's also important to clean your workspace up. You should restart your notebook kernel before you run your script from the beginning, and especially if you're debugging some functionality. Your results should be reproducable from a completely blank starting point, otherwise you might have one result one day, and a different one the next day. Yikes!\n"
   ]
  },
  {
   "cell_type": "code",
   "execution_count": 23,
   "id": "930e30c7-8a1c-4888-a8b4-32e448cfdcec",
   "metadata": {},
   "outputs": [],
   "source": [
    "# This is the file for MathTools lab #1. \n",
    "# Materials adapted over the years by Math Tools TA and instructors. \n",
    "# The previous iteration of this tutorial was authored/updated \n",
    "# by Marissa Fassold, Jordan Lei,\n",
    "# and Srinidhi Venkatesan Kalavai for Math Tools 2022, \n",
    "# then adapted by Sarah Master, Ajay Subramanian, & Eero Simoncelli \n",
    "# for Math Tools 2023. "
   ]
  },
  {
   "cell_type": "markdown",
   "id": "e6efecf5",
   "metadata": {},
   "source": [
    "## Importing Data\n",
    "Before you can import data, it has to be in a location that Jupyter notebook can find it. You can ensure that this is the case either by making sure the data is in Jupyter's file path, or by specifying a path to the file when you load it.\n",
    "\n",
    "Most well-organized directories of code do not have data sitting in the same directory as everything else. In fact, code directories should more or less be organized the same way you might organize a regular folder of files. The more readable/user-friendly, the better! In this case, we have a main home directory (where you are now), and a \"data\" directory.\n",
    "\n",
    "First, let's start by making sure our directory for data exists, and look at what's in it. We are going to be working with a file called \"data.mat,\" so let's make sure it's sitting in our data directory.\n",
    "\n",
    "To see what folders have already been added to the path, you can try the following. This will show you the directories that Jupyter searches through to find files."
   ]
  },
  {
   "cell_type": "code",
   "execution_count": 26,
   "id": "eb6284c9",
   "metadata": {},
   "outputs": [
    {
     "data": {
      "text/plain": [
       "['/home/59880a44-56a6-4ecb-83b0-df81e4dff1c9/MathTools/lab1',\n",
       " '/home/anywhere/djangoproject',\n",
       " '/opt/conda/envs/anaconda-2022.05-py39/lib/python39.zip',\n",
       " '/opt/conda/envs/anaconda-2022.05-py39/lib/python3.9',\n",
       " '/opt/conda/envs/anaconda-2022.05-py39/lib/python3.9/lib-dynload',\n",
       " '',\n",
       " '/opt/conda/envs/anaconda-2022.05-py39/lib/python3.9/site-packages']"
      ]
     },
     "execution_count": 26,
     "metadata": {},
     "output_type": "execute_result"
    }
   ],
   "source": [
    "import sys\n",
    "sys.path"
   ]
  },
  {
   "cell_type": "markdown",
   "id": "a8acba14",
   "metadata": {},
   "source": [
    "If the folder that contains the file has already been added to the path, we can simply import the data. \n",
    "\n",
    "The \"path\" is the places which the code will search first for files of the specified name. You can (and most likely will) have files named the same way (across Math Tools assignments, for example), so specifying which directories are most relevant to the code at hand is key. You can use a command from the \"sys\" package to add folders to your path. You can also specify a file path when loading a file (e.g. load('data/data.mat')) and thereby avoid any potential issues from adding too much to the path.\n",
    "\n",
    "If the folder is not in the path, we can either specify the entire file path when loading a file, or add the folder to the file path as below. "
   ]
  },
  {
   "cell_type": "code",
   "execution_count": 5,
   "id": "68e26d34",
   "metadata": {},
   "outputs": [],
   "source": [
    "#loading file if folder is in path\n",
    "from scipy.io import loadmat\n",
    "dataStruct = loadmat('data/data.mat')\n",
    "\n",
    "#loading with entire file path\n",
    "#dataStruct = loadmat('/Users/FolderName/data.mat')\n",
    "\n",
    "#loading by adding folder to file path\n",
    "#sys.path.append('/Users/FolderName/')\n",
    "#dataStruct = loadmat('data.mat')"
   ]
  },
  {
   "cell_type": "markdown",
   "id": "71bba09b",
   "metadata": {},
   "source": [
    "One of the first things you should do when you are handed a piece of data is to look at its format. You can determine the type by checking the type of the variable."
   ]
  },
  {
   "cell_type": "code",
   "execution_count": null,
   "id": "08bfbd70",
   "metadata": {},
   "outputs": [
    {
     "name": "stdout",
     "output_type": "stream",
     "text": [
      "<class 'dict'>\n",
      "{'__header__': b'MATLAB 5.0 MAT-file, Platform: GLNXA64, Created on: Wed Sep  6 00:42:00 2023', '__version__': '1.0', '__globals__': [], 'data': array([[(array([[0, 1, 2, 3, 4, 5, 6, 7, 8, 9]], dtype=uint8), array([[20.        , 18.        , 14.58      , 10.62882   ,  6.9735688 ,\n",
      "                 4.11782264,  2.18837978,  1.04669527,  0.45056799,  0.17455927]]))                                                    ]],\n",
      "      dtype=[('x', 'O'), ('y', 'O')])}\n"
     ]
    }
   ],
   "source": [
    "print(type(dataStruct))\n",
    "print(dataStruct)"
   ]
  },
  {
   "cell_type": "markdown",
   "id": "d7a74550",
   "metadata": {},
   "source": [
    "dataStruct is of type dictionary. A dictionary is a more general version of a list. For e.g."
   ]
  },
  {
   "cell_type": "code",
   "execution_count": 8,
   "id": "ebdb06d2",
   "metadata": {},
   "outputs": [
    {
     "name": "stdout",
     "output_type": "stream",
     "text": [
      "{'January': 31, 'February': 28, 'March': 31, 'April': 30, 'May': 31, 'June': 30, 'July': 31, 'August': 31, 'September': 30, 'October': 31, 'November': 30, 'December': 31}\n"
     ]
    }
   ],
   "source": [
    "daysInAMonth = {'January':31, 'February':28,'March':31, 'April':30, 'May':31, 'June':30,\n",
    "        'July':31, 'August':31, 'September':30, 'October':31, 'November':30, 'December':31}\n",
    "print(daysInAMonth)"
   ]
  },
  {
   "cell_type": "markdown",
   "id": "12fa151d",
   "metadata": {},
   "source": [
    "The benefit of using dictionaries is that the code is more readable and we don't need to figure out which index is which month. We can reference a month by using daysInAMonth['March']. If you want to know what the possible options are in a dictionary, use the \"keys\" function."
   ]
  },
  {
   "cell_type": "code",
   "execution_count": 9,
   "id": "b11de1fe",
   "metadata": {},
   "outputs": [
    {
     "name": "stdout",
     "output_type": "stream",
     "text": [
      "dict_keys(['January', 'February', 'March', 'April', 'May', 'June', 'July', 'August', 'September', 'October', 'November', 'December'])\n",
      "dict_keys(['__header__', '__version__', '__globals__', 'data'])\n"
     ]
    }
   ],
   "source": [
    "print(daysInAMonth.keys())\n",
    "print(dataStruct.keys())"
   ]
  },
  {
   "cell_type": "markdown",
   "id": "a204b1ca",
   "metadata": {},
   "source": [
    "We are only interested in the \"data\" option in our dataStruct dictionary. Let's create a new variable data to store it and examine the variable type, size and the total number of elements."
   ]
  },
  {
   "cell_type": "code",
   "execution_count": 13,
   "id": "0cd5e9b7",
   "metadata": {},
   "outputs": [
    {
     "name": "stdout",
     "output_type": "stream",
     "text": [
      "<class 'numpy.ndarray'>\n",
      "[[(array([[0, 1, 2, 3, 4, 5, 6, 7, 8, 9]], dtype=uint8), array([[20.        , 18.        , 14.58      , 10.62882   ,  6.9735688 ,\n",
      "           4.11782264,  2.18837978,  1.04669527,  0.45056799,  0.17455927]]))                                                    ]]\n"
     ]
    }
   ],
   "source": [
    "data = dataStruct['data']\n",
    "\n",
    "import numpy as np\n",
    "print(type(data)) #printing variable type\n",
    "print(data)"
   ]
  },
  {
   "cell_type": "markdown",
   "id": "c90b0231",
   "metadata": {},
   "source": [
    "As we can see, the data contains two vectors as numpy arrays. One vector contains the x coordinates of a series of points, and the other the y coordinates. These vectors are however inside a tuple '(..)' that is inside of a list which is inside yet another list. So, to make things easy, let's extract each vector into its own variable and print them and their shape (dimensions)"
   ]
  },
  {
   "cell_type": "code",
   "execution_count": 135,
   "id": "3debf82a",
   "metadata": {},
   "outputs": [
    {
     "name": "stdout",
     "output_type": "stream",
     "text": [
      "Vector x [[0 1 2 3 4 5 6 7 8 9]]\n",
      "Shape of x (1, 10)\n",
      "\n",
      "Vector y [[20.         18.         14.58       10.62882     6.9735688   4.11782264\n",
      "   2.18837978  1.04669527  0.45056799  0.17455927]]\n",
      "Shape of y (1, 10)\n"
     ]
    }
   ],
   "source": [
    "data_x = data[0][0][0]\n",
    "data_y = data[0][0][1]\n",
    "\n",
    "print('Vector x', data_x)\n",
    "print('Shape of x', data_x.shape)\n",
    "print()\n",
    "print('Vector y', data_y)\n",
    "print('Shape of y', data_y.shape)"
   ]
  },
  {
   "cell_type": "markdown",
   "id": "c3481a0f",
   "metadata": {},
   "source": [
    "They are both row vectors of length 10. Now, let's plot them against each other to see how the 10 (x,y) points are arranged in 2D space."
   ]
  },
  {
   "cell_type": "code",
   "execution_count": 17,
   "id": "8e9a13ca",
   "metadata": {},
   "outputs": [
    {
     "data": {
      "image/png": "[encoded data removed]",
      "text/plain": [
       "<Figure size 432x288 with 1 Axes>"
      ]
     },
     "metadata": {
      "needs_background": "light"
     },
     "output_type": "display_data"
    }
   ],
   "source": [
    "import matplotlib.pyplot as plt\n",
    "%matplotlib inline\n",
    "\n",
    "plt.figure()\n",
    "plt.plot(data_x[0], data_y[0])\n",
    "plt.xlabel('X')\n",
    "plt.ylabel('y')\n",
    "plt.title('Fig. 1')\n",
    "plt.show()"
   ]
  },
  {
   "cell_type": "markdown",
   "id": "4a6bf64a",
   "metadata": {},
   "source": [
    "# Conditionals\n",
    "Conditional statements allow you to check if the conditions of a statement are met (For e.g. the condition (vector_length == 1) will return True if the length of a vector is equal to 1, and return False if the length is not 1). Conditional statements in python support all of the various relational operators:\n",
    "\n",
    "equals: ==\n",
    "\n",
    "greater than: >\n",
    "\n",
    "lesser than: <\n",
    "\n",
    "greater than or equal to: >=\n",
    "\n",
    "lesser than or equal to: <=\n",
    "\n",
    "They can be combined with each other using 3 logical operators, 'and', 'or', 'not', that can be written in plain english, so no memorization required! \n",
    "\n",
    "Below, we use these to evaluate some sample conditions."
   ]
  },
  {
   "cell_type": "code",
   "execution_count": 35,
   "id": "fa4840d7",
   "metadata": {},
   "outputs": [
    {
     "name": "stdout",
     "output_type": "stream",
     "text": [
      "True\n",
      "True\n",
      "True\n"
     ]
    }
   ],
   "source": [
    "print(2 > 1)\n",
    "print(1 < 2 and 2 < 3 and not (5 > 6)) # and is true only when all individual conditions are true\n",
    "print(1 < 0 or 1 > -1) # or just needs one condition to be true for the whole statement to be true"
   ]
  },
  {
   "cell_type": "code",
   "execution_count": 36,
   "id": "e432e590",
   "metadata": {},
   "outputs": [
    {
     "name": "stdout",
     "output_type": "stream",
     "text": [
      "True\n"
     ]
    }
   ],
   "source": [
    "# Python, unlike many other programming languages allows for testing whether consecutive variables\n",
    "#are non-decreasing\n",
    "\n",
    "d,e,f,g,h,i = 2,2,3,4,5,5\n",
    "print(d <= e <= f <= g <= h <= i)"
   ]
  },
  {
   "cell_type": "markdown",
   "id": "928681d5",
   "metadata": {},
   "source": [
    "Conditional statements only evaluate whether something is true or not. The \"if-else\" command allows us to execute certain actions if a conditional statement is true, and if not, execute an alternative statement. The syntax is illustrated below.\n",
    "\n",
    "```\n",
    "if <condition>:\n",
    "\t<do something>\n",
    "elif <another condition>:\n",
    "\t<do something else>\n",
    "else:\n",
    "\t<what to do if all conditions failed>\n",
    "```"
   ]
  },
  {
   "cell_type": "code",
   "execution_count": 40,
   "id": "58de0c92",
   "metadata": {},
   "outputs": [
    {
     "name": "stdout",
     "output_type": "stream",
     "text": [
      "-5 is negative\n"
     ]
    }
   ],
   "source": [
    "# Code to check if a number is positive, negative or zero\n",
    "x = -5\n",
    "\n",
    "if (x > 0):\n",
    "\tprint(\"{} is positive\".format(x))\n",
    "\n",
    "elif (x < 0):\n",
    "\tprint(\"{} is negative\".format(x))\n",
    "\n",
    "else:\n",
    "\tprint(\"{} is zero\".format(x))\n"
   ]
  },
  {
   "cell_type": "markdown",
   "id": "b643e9a3",
   "metadata": {},
   "source": [
    "Let's try it! Write a piece of code to \"flip a coin\". Display \"heads\" or \"tails\" depending on the result. Assume that the coin is fair, that is, the probability of a heads or a tails is 50%. \n",
    "Hint: You can use a random number generator to draw random numbers from a uniform distribution (google \"Python uniform random generation\" will help you find a suitable function) and assign 50% of the possible numbers to heads and the other 50% to tails."
   ]
  },
  {
   "cell_type": "code",
   "execution_count": null,
   "id": "b2e6b652",
   "metadata": {},
   "outputs": [],
   "source": [
    "# importing random library for whatever random number generator you'll use.\n",
    "import random\n",
    "\n",
    "# YOUR CODE HERE"
   ]
  },
  {
   "cell_type": "markdown",
   "id": "6e9566f7",
   "metadata": {},
   "source": [
    "## Loops\n",
    "\n",
    "Iteration is an extremely valuable computational tool! It is the repetition of an action until a condition is met. In Matlab, the two main forms of iteration are \"for\" loops and \"while\" loops. The main difference between the two types of loops is that \"for\" loops repeat actions a set number of times, whereas \"while\" loops iterate until a condition is met.\n"
   ]
  },
  {
   "cell_type": "code",
   "execution_count": null,
   "id": "5f59c0d1",
   "metadata": {},
   "outputs": [],
   "source": [
    "#For e.g.\n",
    "v1 = np.linspace(1,50,num=10);\n",
    "numIterations = 10;\n",
    "for index in range(numIterations): #loop over these values\n",
    "    # the variable you loop over will often be a list of sequential \n",
    "    # integers, as this makes indexing convenient\n",
    "    print(v1[index])\n"
   ]
  },
  {
   "cell_type": "code",
   "execution_count": null,
   "id": "fdeebc4c",
   "metadata": {},
   "outputs": [],
   "source": [
    "#While e.g.\n",
    "index = 0;\n",
    "while index < 10: #conditional checking if the program should exit the loop\n",
    "    print(v1[index]) #action to be taken\n",
    "    index += 1; # you have to change the value referenced in the conditional\n",
    "    # in the body of the loop or the while loop will run infinitely.  "
   ]
  },
  {
   "cell_type": "markdown",
   "id": "630167a5",
   "metadata": {},
   "source": [
    "Let's try out loops! Write (a) a for loop to flip a coin 100 times and report the proportion that are heads and (b) a while loop to flip a coin until you have 50 heads, and report the proportion that are heads. \n",
    "Hint: For the for loop, create a variable to act as a counter for the number of head flips. For the while loop, since you are iterating until a specific number of heads are acheived, keep track of the number of the flips to get to 50 heads instead."
   ]
  },
  {
   "cell_type": "code",
   "execution_count": null,
   "id": "825b7163",
   "metadata": {},
   "outputs": [],
   "source": [
    "# YOUR CODE HERE "
   ]
  },
  {
   "cell_type": "markdown",
   "id": "2a577da6",
   "metadata": {},
   "source": [
    "Tips: Python 3.7 provides a few tools to visualize what your code is doing, which is especially useful for debugging and visualizing loops. You can add a break point with the fucntion breakpoint() that will pause the execution of code (so you can check what is happening with your calculation). You can then use \n",
    "c: continue execution\n",
    "n : step to the next line within the same function\n",
    "q: quit the debugger/execution"
   ]
  },
  {
   "cell_type": "code",
   "execution_count": null,
   "id": "12af170c",
   "metadata": {},
   "outputs": [],
   "source": [
    "#For e.g.\n",
    "for ii in range(numIterations):\n",
    "    print(ii)\n",
    "    breakpoint()\n",
    "    print(ii)"
   ]
  },
  {
   "cell_type": "markdown",
   "id": "296aa36b",
   "metadata": {},
   "source": [
    "The commands 'break' and 'continue' can also be used to prematurely stop loops, or to skip certain iterations, for e.g.:"
   ]
  },
  {
   "cell_type": "code",
   "execution_count": null,
   "id": "abc46b4f",
   "metadata": {},
   "outputs": [],
   "source": [
    "numIterations = 10\n",
    "for ii in range(numIterations):\n",
    "    if (ii%2==0): #if ii is divisible by 2\n",
    "        continue #skip to the next value\n",
    "    print(ii)"
   ]
  },
  {
   "cell_type": "markdown",
   "id": "a96d603b",
   "metadata": {},
   "source": [
    "You can also nest loops inside each other. Nested loops run fully on each iteration of the outside loop."
   ]
  },
  {
   "cell_type": "code",
   "execution_count": null,
   "id": "86b512ba",
   "metadata": {},
   "outputs": [],
   "source": [
    "#For e.g.\n",
    "for ii in range(numIterations): #loop runs 10 times\n",
    "    for jj in range(numIterations): #this will run 10 X 10 times\n",
    "        #code\n",
    "       "
   ]
  },
  {
   "cell_type": "markdown",
   "id": "a3d4ff6d",
   "metadata": {},
   "source": [
    "## Functions!\n",
    "Functions are used to 'package' a piece of code so that you can easily reproduce it. They are defined by specifying a set of input variables, a set of output variables, and a function name. In Python, the syntax for this is as follows:\n",
    "\n",
    "def FunctionName(inputVars):\n",
    "    # function body\n",
    "    return output\n",
    "    \n",
    "Let's make a function!\n",
    "Write a function to translate your \"coin flip\" loop into a function coinFlip that takes as input two values, nFlips and nTrials. nFlips is the number of flips of a coin to be made, repeating the process nTrials times. Have the function output a vector, pHeads, which contains the probability of getting a head calculated over each trial (Hint: the sum of the flips matrix divided by the length)"
   ]
  },
  {
   "cell_type": "code",
   "execution_count": 42,
   "id": "440b6858",
   "metadata": {},
   "outputs": [
    {
     "data": {
      "image/png": "[encoded data removed]",
      "text/plain": [
       "<Figure size 432x288 with 1 Axes>"
      ]
     },
     "metadata": {
      "needs_background": "light"
     },
     "output_type": "display_data"
    }
   ],
   "source": [
    "# YOUR CODE HERE!\n",
    "nFlips = 10\n",
    "N = 100\n",
    "\n",
    "# And plot your results!\n",
    "plt.figure;\n",
    "plt.hist(pHeads)\n",
    "plt.xlabel(f'Proportion of getting heads after {nFlips} flips')\n",
    "plt.title(f'Distribution over {N} trials')\n",
    "plt.ylabel('Frequency')\n",
    "plt.show()"
   ]
  },
  {
   "cell_type": "markdown",
   "id": "731b17ed",
   "metadata": {},
   "source": [
    "Like Matlab, you can write anonymous functions in Python as well.  Anonymous functions or lambda functions perform simple operations on one or more variables, and can be defined with the lambda keyword instead of the def keyword:\n"
   ]
  },
  {
   "cell_type": "code",
   "execution_count": null,
   "id": "12210ece",
   "metadata": {},
   "outputs": [],
   "source": [
    "#Example of a anonymous function\n",
    "square = lambda x: x**2 \n",
    "print(square(5))"
   ]
  },
  {
   "cell_type": "markdown",
   "id": "2fe98ae9-7a3f-4a32-ae9b-eda4626ba6d4",
   "metadata": {},
   "source": [
    "## Speeding up your code\n",
    "\n",
    "Loops are very useful, and are often helpful for getting a conceptual understanding of a problem at hand (i.e. they can be used to sketch something out). But they are often inefficient. The more efficient (faster) thing to use, when possible, is matrix and vector operations. Let's go over a very simple example.\n",
    "\n",
    "Let's return to the data we loaded up before:"
   ]
  },
  {
   "cell_type": "code",
   "execution_count": 46,
   "id": "cbd90131-4329-45c4-9591-9dadc512d506",
   "metadata": {},
   "outputs": [
    {
     "name": "stdout",
     "output_type": "stream",
     "text": [
      "X values in dataset: [[0 1 2 3 4 5 6 7 8 9]]\n",
      "Y values in dataset: [[20.         18.         14.58       10.62882     6.9735688   4.11782264\n",
      "   2.18837978  1.04669527  0.45056799  0.17455927]]\n"
     ]
    }
   ],
   "source": [
    "print(f'X values in dataset: {data_x}')\n",
    "print(f'Y values in dataset: {data_y}')"
   ]
  },
  {
   "cell_type": "markdown",
   "id": "c205d6ca-4e7b-499b-b9e0-6f2d4794c790",
   "metadata": {},
   "source": [
    "This is a simulated dataset which we created with \"temporal discounting\" in mind. Temporal discounting is the neuroeconomic phenomenon by which things seem less valuable to us the longer we have to wait to receive them. Most people would prefer to be given $20 today than in 2 weeks. You can model this by simulating an arbitrary decay function, using a \"gamma\" discounting parameter. First, let's simulate it using a loop.\n"
   ]
  },
  {
   "cell_type": "code",
   "execution_count": 98,
   "id": "aacfe939-1dba-4950-9af2-f38bd1d29cb2",
   "metadata": {},
   "outputs": [
    {
     "name": "stdout",
     "output_type": "stream",
     "text": [
      "9\n",
      "The loop took 0.00011754035949707031 seconds to run.\n"
     ]
    },
    {
     "data": {
      "text/plain": [
       "Text(0, 0.5, 'Perceived value')"
      ]
     },
     "execution_count": 98,
     "metadata": {},
     "output_type": "execute_result"
    },
    {
     "data": {
      "image/png": "[encoded data removed]",
      "text/plain": [
       "<Figure size 432x288 with 1 Axes>"
      ]
     },
     "metadata": {
      "needs_background": "light"
     },
     "output_type": "display_data"
    }
   ],
   "source": [
    "# Since we're going to measure how long these processes take to run, \n",
    "# relative to each other, let's import the proper package.\n",
    "import time\n",
    "\n",
    "# As in the original dataset, let's simulate 10 days of decay.\n",
    "n_days = 10\n",
    "\n",
    "# Because x is our x-axis, which is just time, creating x is as simple as\n",
    "# creating a vector of increasing integers with start point 0 and end point\n",
    "# 9. (To make our simulations simple, the first day is going to be called Day 0.)\n",
    "data_x = np.arange(0,9)\n",
    "# The code below is written flexibly, so if you want to simulate a longer time \n",
    "# horizon here, then just extend data_x!\n",
    "print(np.size(data_x))\n",
    "\n",
    "# We're going to repopulate data_y, so for now, let's re-initialize it so\n",
    "# it's just an empty variable.\n",
    "data_y = np.empty(np.size(data_x))\n",
    "data_y[:] = np.nan\n",
    "\n",
    "# Set the discounting parameter, gamma:\n",
    "gamma = 0.9\n",
    "# If you'd like to, you can play with this parameter, keeping it between 0\n",
    "# and 1 (exclusive). Higher values of gamma will result in less temporal\n",
    "# discounting.\n",
    "\n",
    "# Set the initial value of the offer on day 0:\n",
    "value = 20\n",
    "\n",
    "# Here is a loop which simulates temporal discounting over n_days days.\n",
    "# The formula for temporal discounting is an exponential:\n",
    "# value(t+1) = value(t) .* gamma^(t+1)\n",
    "start = time.time()\n",
    "for day in data_x:\n",
    "    # decrement the value by multiplying it by gamma^t\n",
    "    value = value * (gamma ** day)\n",
    "    data_y[day] = value\n",
    "\n",
    "    \n",
    "end = time.time()\n",
    "print(f'The loop took {end - start} seconds to run.')\n",
    "\n",
    "# Now plot your result to ensure it looks correct!\n",
    "plt.figure\n",
    "plt.plot(data_x,data_y)\n",
    "plt.xlabel('Day')\n",
    "plt.ylabel('Perceived value')"
   ]
  },
  {
   "cell_type": "markdown",
   "id": "909096d1-2242-4891-b2e1-4dfd7fbc3c11",
   "metadata": {},
   "source": [
    "Okay, now go ahead and try doing the same thing but WITHOUT using a loop!"
   ]
  },
  {
   "cell_type": "code",
   "execution_count": 103,
   "id": "a36e1bdc-0109-4d73-bf4b-b19e4137694d",
   "metadata": {},
   "outputs": [
    {
     "name": "stdout",
     "output_type": "stream",
     "text": [
      "The non-looping code took 4.887580871582031e-05 seconds to run.\n"
     ]
    },
    {
     "data": {
      "text/plain": [
       "Text(0, 0.5, 'Perceived value')"
      ]
     },
     "execution_count": 103,
     "metadata": {},
     "output_type": "execute_result"
    },
    {
     "data": {
      "image/png": "[encoded data removed]",
      "text/plain": [
       "<Figure size 432x288 with 1 Axes>"
      ]
     },
     "metadata": {
      "needs_background": "light"
     },
     "output_type": "display_data"
    }
   ],
   "source": [
    "start = time.time()\n",
    "\n",
    "# YOUR NON-LOOPING CODE HERE #\n",
    "\n",
    "end = time.time()\n",
    "print(f'The non-looping code took {end - start} seconds to run.')\n",
    "\n",
    "# And plot!\n",
    "plt.figure\n",
    "plt.plot(data_x,data_y)\n",
    "plt.xlabel('Day')\n",
    "plt.ylabel('Perceived value')"
   ]
  },
  {
   "cell_type": "markdown",
   "id": "72582755",
   "metadata": {},
   "source": [
    "## Exercises:\n",
    "### Exercise 1: Projections, change of coordinates, and angles.\n",
    "(a)  Write a function, \"project\" that takes two non-zero vectors, v and unit vector u as input and projects v onto u. Have the function output the length of the projection. Test the function with two randomly generated vectors. Remember to use numpy functions to define vectors, not lists!\n",
    "\n",
    "(b) Write a function, \"changeOfCoords\" that takes two vectors, v and u as input. Create a new \"coordinate space\" such that the vector u is one of the axes, and re-write the coordinates of v in the \"coordinate space\" of u. Have your function return the x and y coordinates of v in the coordinate system based off u.\n",
    "Hint: To create a new coordinate space, convert u to a unit vector and find its orthogonal vector, w.\n",
    "\n",
    "(c)Write a function, \"angleBetween\" that takes two vectors, v and u, and calculates the angle between them. Hint: The inverse cosine function np.arccos() will help.\n",
    "\n",
    "### Exercise 2: Plotting a unit circle\n",
    "A unit circle is a circle of radius 1, centered on the origin. When we get into matrix transformations, circles are often a nice way to visualize how a space can be transformed by a matrix. Let's think about how to create the unit circle. \n",
    "HINT: Use trigonometry! "
   ]
  },
  {
   "cell_type": "code",
   "execution_count": 108,
   "id": "c80fc582",
   "metadata": {},
   "outputs": [],
   "source": [
    "import matplotlib.pyplot as plt\n",
    "import numpy as np"
   ]
  },
  {
   "cell_type": "code",
   "execution_count": 2,
   "id": "df620a77",
   "metadata": {},
   "outputs": [
    {
     "ename": "NameError",
     "evalue": "name 'plt' is not defined",
     "output_type": "error",
     "traceback": [
      "\u001b[0;31m---------------------------------------------------------------------------\u001b[0m",
      "\u001b[0;31mNameError\u001b[0m                                 Traceback (most recent call last)",
      "Input \u001b[0;32mIn [2]\u001b[0m, in \u001b[0;36m<cell line: 4>\u001b[0;34m()\u001b[0m\n\u001b[1;32m      1\u001b[0m \u001b[38;5;66;03m# YOUR CODE HERE!\u001b[39;00m\n\u001b[1;32m      2\u001b[0m \n\u001b[1;32m      3\u001b[0m \u001b[38;5;66;03m# And plot!\u001b[39;00m\n\u001b[0;32m----> 4\u001b[0m \u001b[43mplt\u001b[49m\u001b[38;5;241m.\u001b[39mplot(vectors[\u001b[38;5;241m0\u001b[39m][\u001b[38;5;241m0\u001b[39m][:],vectors[\u001b[38;5;241m1\u001b[39m][\u001b[38;5;241m0\u001b[39m][:]);\n\u001b[1;32m      5\u001b[0m plt\u001b[38;5;241m.\u001b[39mtitle(\u001b[38;5;124m'\u001b[39m\u001b[38;5;124mUnit circle\u001b[39m\u001b[38;5;124m'\u001b[39m)\n",
      "\u001b[0;31mNameError\u001b[0m: name 'plt' is not defined"
     ]
    }
   ],
   "source": [
    "# YOUR CODE HERE!\n",
    "\n",
    "# And plot!\n",
    "plt.plot(vectors[0][0][:],vectors[1][0][:]);\n",
    "plt.title('Unit circle')\n",
    "\n",
    "# Your plot should look like a perfect circle. If it doesn't, then try\n",
    "# making sure your x and y axes are of the same length.\n",
    "\n",
    "# P.S. Plot can be a slightly wonky/strange function to use. Try\n",
    "# understanding why the above plot command plots the unit circle. Play\n",
    "# around with giving plot different X/Y coordinates, and then giving it a\n",
    "# vector to plot which originates at the origin."
   ]
  },
  {
   "cell_type": "markdown",
   "id": "2876984d",
   "metadata": {},
   "source": [
    "### Exercise 3: Vectors as operators\n",
    "Imagine there is a neuron with three dendrites. Each dendrite receives the same 8 inputs (has 8 synaptic terminals), but uses a different computation on those inputs to determine whether it should signal the cell to fire. Dendrite 1 acts as a simple averager. Dendrite 2 acts as windowed averager, only factoring in the last four inputs, Dendrite 3 acts as a component selector and only extracts the value of the last (eighth) dimension. The cell decides to fire is a majority of the dendrites surpass a threshold.\n",
    "Create a function neuron() which takes a 8x1 input vector and a scalar threshold, and outputs the cell's decision to fire as a boolean value (0=no firing, 1 = firing). Randomly generate an input vector and test your function using an appropriate threshold value."
   ]
  },
  {
   "cell_type": "code",
   "execution_count": 4,
   "id": "f7382cf3",
   "metadata": {},
   "outputs": [],
   "source": [
    "def neuron(current, threshold):\n",
    "    #YOUR CODE STARTS HERE\n",
    "    s = len(current)\n",
    "    #dendrite1 =  #replace this with an averager\n",
    "    #dendrite2 =  #replace this with a windowed averager\n",
    "    #dendrite3 =  #replace this with a component selector\n",
    "    \n",
    "    #Try to represent the action of the dendrite vectors on the input\n",
    "    #vector as a vector x matrix multiplication problem\n",
    "   \n",
    "\n",
    "    #YOUR CODE STARTS HERE\n",
    "\n",
    "    \n",
    "    #Compare the response to the input threshold value and return the\n",
    "    #appropriate output\n",
    "\n",
    "    return output"
   ]
  },
  {
   "cell_type": "code",
   "execution_count": null,
   "id": "89b2a291",
   "metadata": {},
   "outputs": [],
   "source": [
    "#test the neuron function"
   ]
  },
  {
   "cell_type": "markdown",
   "id": "7af343e4",
   "metadata": {},
   "source": [
    "Now imagine that instead of those 8 inputs representing different synaptic terminals, they represent inputs over time. Write a function neuronOverTime, that takes as an input a threshold and a scalar T, a length of time. Randomly generate a vector of inputs with the length T, and use the 'neuron' function to generate the cell's response at each successive time point by calculating the reponse to subset of inputs, input(t:t+8). To measure the activity of the neuron at time t = 1, pad the input vector with zeros so that the first random number is input 8. Create a vector of output values (1s and 0s) and plot them as a \"spike plot\" using the function stem()."
   ]
  }
 ],
 "metadata": {
  "kernelspec": {
   "display_name": "anaconda-2022.05-py39",
   "language": "python",
   "name": "conda-env-anaconda-2022.05-py39-py"
  },
  "language_info": {
   "codemirror_mode": {
    "name": "ipython",
    "version": 3
   },
   "file_extension": ".py",
   "mimetype": "text/x-python",
   "name": "python",
   "nbconvert_exporter": "python",
   "pygments_lexer": "ipython3",
   "version": "3.9.12"
  }
 },
 "nbformat": 4,
 "nbformat_minor": 5
}
