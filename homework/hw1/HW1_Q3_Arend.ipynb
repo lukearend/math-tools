{
 "cells": [
  {
   "cell_type": "markdown",
   "id": "6b31e368",
   "metadata": {},
   "source": [
    "### Homework 1 - Question 3 - Luke Arend"
   ]
  },
  {
   "cell_type": "markdown",
   "id": "e86584e2",
   "metadata": {},
   "source": [
    "### a)"
   ]
  },
  {
   "cell_type": "code",
   "execution_count": 1,
   "id": "1157a161",
   "metadata": {},
   "outputs": [],
   "source": [
    "import numpy as np\n",
    "import matplotlib.pyplot as plt"
   ]
  },
  {
   "cell_type": "code",
   "execution_count": 2,
   "id": "d048825a",
   "metadata": {},
   "outputs": [],
   "source": [
    "def plotVec2(M):\n",
    "    assert M.shape[0] == 2 # matrix must have two rows\n",
    "    for v in M.T:\n",
    "        plt.arrow(0, 0, *v, head_width=0.05, length_includes_head=True)\n",
    "    plt.axis('square')\n",
    "    plt.xlim([-1, 1])\n",
    "    plt.ylim([-1, 1])"
   ]
  },
  {
   "cell_type": "code",
   "execution_count": 3,
   "id": "9ad8af2f",
   "metadata": {},
   "outputs": [
    {
     "data": {
      "image/png": "[encoded data removed]",
      "text/plain": [
       "<Figure size 640x480 with 1 Axes>"
      ]
     },
     "metadata": {},
     "output_type": "display_data"
    }
   ],
   "source": [
    "np.random.seed(0)\n",
    "M = 0.25 * np.random.randn(2, 3)\n",
    "plotVec2(M)\n",
    "plt.show()"
   ]
  },
  {
   "cell_type": "markdown",
   "id": "adbeb2ec",
   "metadata": {},
   "source": [
    "### b)"
   ]
  },
  {
   "cell_type": "markdown",
   "id": "6987ba6f",
   "metadata": {},
   "source": [
    "`vecLenAngle` takes two vectors as arguments and returns the magnitude of each vector, as well\n",
    "as the angle (in radians) between them. It returns 0 for the angle if either vector has zero length."
   ]
  },
  {
   "cell_type": "code",
   "execution_count": 4,
   "id": "fa71b050",
   "metadata": {},
   "outputs": [],
   "source": [
    "def vecLenAngle(v1, v2):\n",
    "    L1 = np.sqrt(np.sum(v1 ** 2))\n",
    "    L2 = np.sqrt(np.sum(v2 ** 2))\n",
    "    if L1 * L2 == 0:\n",
    "        angle = 0\n",
    "    else:\n",
    "        angle = np.arccos(np.sum(v1 * v2) / (L1 * L2))\n",
    "    return L1, L2, angle"
   ]
  },
  {
   "cell_type": "code",
   "execution_count": 5,
   "id": "70f5b2d3",
   "metadata": {},
   "outputs": [
    {
     "name": "stdout",
     "output_type": "stream",
     "text": [
      "v1: [ 0.95008842 -0.15135721]\n",
      "v2: [-0.10321885  0.4105985 ]\n",
      "vecLenAngle(v1, v2): (0.9620691272564312, 0.42337366611495336, 1.9750603468048809)\n"
     ]
    }
   ],
   "source": [
    "v1, v2 = np.random.randn(2, 2)\n",
    "print(f\"v1: {v1}\\nv2: {v2}\")\n",
    "print(f\"vecLenAngle(v1, v2): {vecLenAngle(v1, v2)}\")"
   ]
  },
  {
   "cell_type": "markdown",
   "id": "c85faf61",
   "metadata": {},
   "source": [
    "### c)"
   ]
  },
  {
   "cell_type": "markdown",
   "id": "fa6b6988",
   "metadata": {},
   "source": [
    "Generate a random matrix M."
   ]
  },
  {
   "cell_type": "code",
   "execution_count": 6,
   "id": "5eb69214",
   "metadata": {},
   "outputs": [
    {
     "data": {
      "text/plain": [
       "array([[0.14404357, 1.45427351],\n",
       "       [0.76103773, 0.12167502]])"
      ]
     },
     "execution_count": 6,
     "metadata": {},
     "output_type": "execute_result"
    }
   ],
   "source": [
    "M = np.random.randn(2, 2)\n",
    "M"
   ]
  },
  {
   "cell_type": "markdown",
   "id": "3c3f1a63",
   "metadata": {},
   "source": [
    "Decompose it using the singular value decomposition."
   ]
  },
  {
   "cell_type": "code",
   "execution_count": 7,
   "id": "7c8b791a",
   "metadata": {},
   "outputs": [
    {
     "data": {
      "text/plain": [
       "True"
      ]
     },
     "execution_count": 7,
     "metadata": {},
     "output_type": "execute_result"
    }
   ],
   "source": [
    "U, S, Vt = np.linalg.svd(M)\n",
    "np.allclose(np.dot(U * S, Vt), M)"
   ]
  },
  {
   "cell_type": "markdown",
   "id": "77c101ec",
   "metadata": {},
   "source": [
    "Generate standard basis vectors. Compute their lengths and the angle between them."
   ]
  },
  {
   "cell_type": "code",
   "execution_count": 8,
   "id": "c9b54b58",
   "metadata": {},
   "outputs": [],
   "source": [
    "I = np.identity(2)"
   ]
  },
  {
   "cell_type": "code",
   "execution_count": 9,
   "id": "afdb640d",
   "metadata": {},
   "outputs": [
    {
     "data": {
      "text/plain": [
       "(1.0, 1.0, 1.5707963267948966)"
      ]
     },
     "execution_count": 9,
     "metadata": {},
     "output_type": "execute_result"
    }
   ],
   "source": [
    "vecLenAngle(I[:, 0], I[:, 1])"
   ]
  },
  {
   "cell_type": "markdown",
   "id": "81baed06",
   "metadata": {},
   "source": [
    "Their lengths are 1 and the angle between them is $\\pi/2$ radians or 90 degrees."
   ]
  },
  {
   "cell_type": "markdown",
   "id": "3f89709a",
   "metadata": {},
   "source": [
    "Rotate the standard basis by $V^T$, and compute the lengths/angle between those."
   ]
  },
  {
   "cell_type": "code",
   "execution_count": 10,
   "id": "36813971",
   "metadata": {},
   "outputs": [
    {
     "data": {
      "text/plain": [
       "(1.0000000000000002, 1.0000000000000002, 1.5707963267948966)"
      ]
     },
     "execution_count": 10,
     "metadata": {},
     "output_type": "execute_result"
    }
   ],
   "source": [
    "X1 = np.dot(Vt, I)\n",
    "vecLenAngle(X1[:, 0], X1[:, 1])"
   ]
  },
  {
   "cell_type": "markdown",
   "id": "c501c5ac",
   "metadata": {},
   "source": [
    "After applying $V^T$, their lengths are still 1 and the angle between them is still $\\pi/2$ radians."
   ]
  },
  {
   "cell_type": "markdown",
   "id": "ae4317db",
   "metadata": {},
   "source": [
    "Now scale the vectors by factors of $S_{diag}$ along the directions of the standard basis and compute the lengths/angle."
   ]
  },
  {
   "cell_type": "code",
   "execution_count": 11,
   "id": "52135321",
   "metadata": {},
   "outputs": [
    {
     "data": {
      "text/plain": [
       "(0.7745495268152256, 1.4593547350431704, 1.3002637488305455)"
      ]
     },
     "execution_count": 11,
     "metadata": {},
     "output_type": "execute_result"
    }
   ],
   "source": [
    "X2 = np.dot(np.diag(S), X1)\n",
    "vecLenAngle(X2[:, 0], X2[:, 1])"
   ]
  },
  {
   "cell_type": "markdown",
   "id": "73c8e989",
   "metadata": {},
   "source": [
    "Following S, the vector lengths have changed. Also the angle between them is no longer $\\pi/2$ radians. Call their new lengths $L_1$ and $L_2$ and the new angle $\\theta$."
   ]
  },
  {
   "cell_type": "markdown",
   "id": "e7ceda25",
   "metadata": {},
   "source": [
    "Finally rotate the vectors by U, and compute the lengths/angle again."
   ]
  },
  {
   "cell_type": "code",
   "execution_count": 12,
   "id": "e07e6325",
   "metadata": {},
   "outputs": [
    {
     "data": {
      "text/plain": [
       "(0.7745495268152257, 1.4593547350431706, 1.3002637488305453)"
      ]
     },
     "execution_count": 12,
     "metadata": {},
     "output_type": "execute_result"
    }
   ],
   "source": [
    "X3 = np.dot(Vt, X2)\n",
    "vecLenAngle(X3[:, 0], X3[:, 1])"
   ]
  },
  {
   "cell_type": "markdown",
   "id": "28d26311",
   "metadata": {},
   "source": [
    "Following U, the lengths $L_1$ and $L_2$ and the angle $\\theta$ are preserved."
   ]
  },
  {
   "cell_type": "code",
   "execution_count": 13,
   "id": "e0aa003e",
   "metadata": {},
   "outputs": [
    {
     "data": {
      "image/png": "[encoded data removed]",
      "text/plain": [
       "<Figure size 640x480 with 4 Axes>"
      ]
     },
     "metadata": {},
     "output_type": "display_data"
    }
   ],
   "source": [
    "fig, axes = plt.subplots(1, 4)\n",
    "for i, X in enumerate([I, X1, X2, X3]):\n",
    "    plt.sca(axes[i])\n",
    "    plotVec2(X)\n",
    "plt.show()"
   ]
  },
  {
   "cell_type": "markdown",
   "id": "9aa74524",
   "metadata": {},
   "source": [
    "### d)"
   ]
  },
  {
   "cell_type": "markdown",
   "id": "46f68d8c",
   "metadata": {},
   "source": [
    "Generate a 2x65 data matrix P of unit vectors tracing out the unit circle in 64 steps."
   ]
  },
  {
   "cell_type": "code",
   "execution_count": 14,
   "id": "31be5a06",
   "metadata": {},
   "outputs": [
    {
     "data": {
      "image/png": "[encoded data removed]",
      "text/plain": [
       "<Figure size 640x480 with 1 Axes>"
      ]
     },
     "metadata": {},
     "output_type": "display_data"
    }
   ],
   "source": [
    "theta = 2 * np.pi * np.arange(65) / 64\n",
    "P = np.array([np.cos(theta), np.sin(theta)])\n",
    "plt.plot(*P, 'b')\n",
    "plt.plot(*P[:, 0], 'r*')\n",
    "plt.axis('equal')\n",
    "plt.show()"
   ]
  },
  {
   "cell_type": "markdown",
   "id": "c4bc9599",
   "metadata": {},
   "source": [
    "The action of the matrix M in the previous problem was decomposed into three separate actions: rotating by $V_T$, scaling by the singular values $S_{diag}$ and rotating by $U$. Rotation by $V_T$ just rotates the unit circle. The scaling operation by S stretches or compresses the circle along the axes of the standard basis, giving an axis-aligned ellipse. The rotation by U rotates the ellipse in the plane. This is shown below."
   ]
  },
  {
   "cell_type": "code",
   "execution_count": 15,
   "id": "97f62c32",
   "metadata": {},
   "outputs": [
    {
     "data": {
      "image/png": "[encoded data removed]",
      "text/plain": [
       "<Figure size 640x480 with 4 Axes>"
      ]
     },
     "metadata": {},
     "output_type": "display_data"
    }
   ],
   "source": [
    "X1 = np.dot(Vt, P)\n",
    "X2 = np.dot(np.diag(S), X1)\n",
    "X3 = np.dot(U, X2)\n",
    "\n",
    "fig, axes = plt.subplots(1, 4)\n",
    "for i, X in enumerate([P, X1, X2, X3]):\n",
    "    plt.sca(axes[i])\n",
    "    plt.plot(*X, 'b')\n",
    "    plt.plot(*X[:, 0], 'ro')\n",
    "    plt.axis('equal')\n",
    "plt.show()"
   ]
  },
  {
   "cell_type": "code",
   "execution_count": null,
   "id": "9295c5e5",
   "metadata": {},
   "outputs": [],
   "source": []
  }
 ],
 "metadata": {
  "kernelspec": {
   "display_name": "Python 3",
   "language": "python",
   "name": "python3"
  },
  "language_info": {
   "codemirror_mode": {
    "name": "ipython",
    "version": 3
   },
   "file_extension": ".py",
   "mimetype": "text/x-python",
   "name": "python",
   "nbconvert_exporter": "python",
   "pygments_lexer": "ipython3",
   "version": "3.10.6"
  }
 },
 "nbformat": 4,
 "nbformat_minor": 5
}
