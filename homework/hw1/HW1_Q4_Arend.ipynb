{
 "cells": [
  {
   "cell_type": "markdown",
   "id": "92c9108b",
   "metadata": {},
   "source": [
    "### Homework 1 - Question 4 - Luke Arend"
   ]
  },
  {
   "cell_type": "markdown",
   "id": "cf417078",
   "metadata": {},
   "source": [
    "### a)"
   ]
  },
  {
   "cell_type": "markdown",
   "id": "0ba96ca5",
   "metadata": {},
   "source": [
    "The system is linear. Its scalar response is a weighted sum over the entries of the input vector. Its action can be represented as a dot product with the weight vector $\\vec{w} = [6, 8.2, 1, 3, 1]$ or $r = M \\vec{v}$ where $M$ is the 5x1 matrix $\\vec{w}^T$."
   ]
  },
  {
   "cell_type": "markdown",
   "id": "823843f1",
   "metadata": {},
   "source": [
    "### b)"
   ]
  },
  {
   "cell_type": "markdown",
   "id": "5d7287d8",
   "metadata": {},
   "source": [
    "For input vectors of a given length, the vector with entries proportional to $\\vec{w}$ will produce the largest response. Geometrically, such a vector is perfectly aligned with the weight vector $\\vec{w}$. So the unit-length stimulus vector which elicits the largest response is just $\\frac{\\vec{w}}{\\lVert \\vec{w} \\rVert}$:"
   ]
  },
  {
   "cell_type": "code",
   "execution_count": 1,
   "id": "71098710",
   "metadata": {},
   "outputs": [],
   "source": [
    "import numpy as np"
   ]
  },
  {
   "cell_type": "code",
   "execution_count": 2,
   "id": "ddd7859a",
   "metadata": {},
   "outputs": [
    {
     "data": {
      "text/plain": [
       "array([0.56136089, 0.76719322, 0.09356015, 0.28068045, 0.09356015])"
      ]
     },
     "execution_count": 2,
     "metadata": {},
     "output_type": "execute_result"
    }
   ],
   "source": [
    "w = np.array([6, 8.2, 1, 3, 1])\n",
    "v = w / np.sqrt(np.dot(w, w))\n",
    "v"
   ]
  },
  {
   "cell_type": "markdown",
   "id": "6a7910ba",
   "metadata": {},
   "source": [
    "### c)"
   ]
  },
  {
   "cell_type": "markdown",
   "id": "dfec4614",
   "metadata": {},
   "source": [
    "A physically realizable unit vector $\\vec{v}$ with the smallest possible response will contain nonnegative entries and minimize the dot product $\\vec{w} \\cdot \\vec{v}$. The dot product is minimized when $\\vec{v}$ has only one nonzero entry and that entry aligns with the smallest entry of $\\vec{w}$. There are two such unit vectors: $[0, 0, 1, 0, 0]$ and $[0, 0, 0, 0, 1]$."
   ]
  },
  {
   "cell_type": "code",
   "execution_count": null,
   "id": "9b1a7a4a",
   "metadata": {},
   "outputs": [],
   "source": []
  }
 ],
 "metadata": {
  "kernelspec": {
   "display_name": "Python 3 (ipykernel)",
   "language": "python",
   "name": "python3"
  },
  "language_info": {
   "codemirror_mode": {
    "name": "ipython",
    "version": 3
   },
   "file_extension": ".py",
   "mimetype": "text/x-python",
   "name": "python",
   "nbconvert_exporter": "python",
   "pygments_lexer": "ipython3",
   "version": "3.10.6"
  }
 },
 "nbformat": 4,
 "nbformat_minor": 5
}
