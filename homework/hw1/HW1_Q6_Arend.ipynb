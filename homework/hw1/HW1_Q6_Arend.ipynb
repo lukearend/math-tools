{
 "cells": [
  {
   "cell_type": "markdown",
   "id": "e484f5ea",
   "metadata": {},
   "source": [
    "### Homework 1 - Question 6 - Luke Arend"
   ]
  },
  {
   "cell_type": "markdown",
   "id": "dde05405",
   "metadata": {},
   "source": [
    "Consider a linear system which transforms $\\vec{v}$ to $\\vec{y}$ such that $\\vec{y} = M \\vec{v}$."
   ]
  },
  {
   "cell_type": "markdown",
   "id": "05eaba00",
   "metadata": {},
   "source": [
    "### a)"
   ]
  },
  {
   "cell_type": "markdown",
   "id": "58bdffdb",
   "metadata": {},
   "source": [
    "The null space of the matrix M is the set of vectors which, when left-multiplied by M, result in the zero vector. It is the subspace of the input space which is completely discarded by the transform M.\n",
    "\n",
    "The range space of the matrix M is the set of vectors reachable by applying M to any input vector. It is the subspace of the output space actually occupied by the transform M applied to all possible inputs."
   ]
  },
  {
   "cell_type": "markdown",
   "id": "b169b362",
   "metadata": {},
   "source": [
    "### b)"
   ]
  },
  {
   "cell_type": "markdown",
   "id": "8aeb5cbc",
   "metadata": {},
   "source": [
    "Consider a creature which produces a neural response vector to a vector input of pressure measurements. If the system has a non-zero null space, then some pressure vectors are mapped to the zero vector. This means that there exist stimuli which, when presented to the animal, produce no neural response. Call these \"null\" stimuli.\n",
    "\n",
    "Since the system is linear, any null stimulus could be added to any ordinary stimulus to produce a metamer: a second, different stimulus which, when presented to the animal, produces the same neural response as the original."
   ]
  },
  {
   "cell_type": "markdown",
   "id": "0d044736",
   "metadata": {},
   "source": [
    "### c)"
   ]
  },
  {
   "cell_type": "code",
   "execution_count": 1,
   "id": "3a139c8b",
   "metadata": {},
   "outputs": [],
   "source": [
    "import numpy as np\n",
    "import scipy"
   ]
  },
  {
   "cell_type": "code",
   "execution_count": 2,
   "id": "a1e8004f",
   "metadata": {},
   "outputs": [],
   "source": [
    "data = scipy.io.loadmat('Hw1Q6_MtxExamples.mat')"
   ]
  },
  {
   "cell_type": "markdown",
   "id": "600c60e4",
   "metadata": {},
   "source": [
    "### M1"
   ]
  },
  {
   "cell_type": "code",
   "execution_count": 3,
   "id": "837e459c",
   "metadata": {},
   "outputs": [
    {
     "data": {
      "text/plain": [
       "array([[1.76371689, 0.18079736, 1.96484125],\n",
       "       [0.68217653, 0.18724003, 0.64619217]])"
      ]
     },
     "execution_count": 3,
     "metadata": {},
     "output_type": "execute_result"
    }
   ],
   "source": [
    "M1 = data['mtx1']\n",
    "M1"
   ]
  },
  {
   "cell_type": "code",
   "execution_count": 4,
   "id": "4eec6e91",
   "metadata": {},
   "outputs": [
    {
     "data": {
      "text/plain": [
       "array([2.81131413, 0.13596668])"
      ]
     },
     "execution_count": 4,
     "metadata": {},
     "output_type": "execute_result"
    }
   ],
   "source": [
    "U, S, Vt = np.linalg.svd(M1)\n",
    "S"
   ]
  },
  {
   "cell_type": "markdown",
   "id": "094c2483",
   "metadata": {},
   "source": [
    "1)\n",
    "\n",
    "Since there are 3 input dimensions and only 2 singular values, the third input dimension is discarded by the transform $M_1$. It is spanned by the third column of $V$."
   ]
  },
  {
   "cell_type": "markdown",
   "id": "f8788dd4",
   "metadata": {},
   "source": [
    "Sample a random vector along the third column of $V$. Applying $M_1$ gives the zero vector."
   ]
  },
  {
   "cell_type": "code",
   "execution_count": 5,
   "id": "c01f0902",
   "metadata": {},
   "outputs": [
    {
     "data": {
      "text/plain": [
       "array([-2.06095361e-16, -4.60333619e-18])"
      ]
     },
     "execution_count": 5,
     "metadata": {},
     "output_type": "execute_result"
    }
   ],
   "source": [
    "v = Vt.T[:, 2] * np.random.randn()\n",
    "np.dot(M1, v)"
   ]
  },
  {
   "cell_type": "markdown",
   "id": "9980c1d2",
   "metadata": {},
   "source": [
    "2)\n",
    "\n",
    "The range space of $M_1$ is spanned by the columns of $U$. Sample a random vector $\\vec{y}$ from the range space."
   ]
  },
  {
   "cell_type": "code",
   "execution_count": 6,
   "id": "2636b1c1",
   "metadata": {},
   "outputs": [
    {
     "data": {
      "text/plain": [
       "array([-0.70201609, -0.53103311])"
      ]
     },
     "execution_count": 6,
     "metadata": {},
     "output_type": "execute_result"
    }
   ],
   "source": [
    "y = np.dot(U.T, np.random.randn(2))\n",
    "y"
   ]
  },
  {
   "cell_type": "markdown",
   "id": "84b2ac0d",
   "metadata": {},
   "source": [
    "If $\\vec{y} = M \\vec{x}$, then $\\vec{x} = M^{-1} \\vec{y}$. And since $M = U S V^T$, $M^{-1} = V S^{-1} U^T$. So $\\vec{x} = V S^{-1} U^T \\vec{y}$."
   ]
  },
  {
   "cell_type": "code",
   "execution_count": 7,
   "id": "c65581b4",
   "metadata": {},
   "outputs": [
    {
     "data": {
      "text/plain": [
       "array([-0.86015132, -1.66152058,  0.56770279])"
      ]
     },
     "execution_count": 7,
     "metadata": {},
     "output_type": "execute_result"
    }
   ],
   "source": [
    "S_inv = np.diag(1 / S)\n",
    "S_inv = np.concatenate([S_inv, [[0, 0]]], axis=0)\n",
    "M_inv = np.dot(np.dot(Vt.T, S_inv), U.T)\n",
    "x = np.dot(M_inv, y)\n",
    "x"
   ]
  },
  {
   "cell_type": "markdown",
   "id": "4fd15819",
   "metadata": {},
   "source": [
    "Verify that $\\vec{y} = M \\vec{x}$ for `x` and `y`."
   ]
  },
  {
   "cell_type": "code",
   "execution_count": 8,
   "id": "e3483f23",
   "metadata": {},
   "outputs": [
    {
     "data": {
      "text/plain": [
       "True"
      ]
     },
     "execution_count": 8,
     "metadata": {},
     "output_type": "execute_result"
    }
   ],
   "source": [
    "np.allclose(y, np.dot(M1, x))"
   ]
  },
  {
   "cell_type": "markdown",
   "id": "40016eb1",
   "metadata": {},
   "source": [
    "### M2"
   ]
  },
  {
   "cell_type": "code",
   "execution_count": 9,
   "id": "3a165332",
   "metadata": {},
   "outputs": [
    {
     "data": {
      "text/plain": [
       "array([[-0.19744334,  0.01215894, -0.58881013],\n",
       "       [ 0.43287258, -0.02665713,  1.29090077],\n",
       "       [ 1.07207807, -0.06602064,  3.19712192]])"
      ]
     },
     "execution_count": 9,
     "metadata": {},
     "output_type": "execute_result"
    }
   ],
   "source": [
    "M2 = data['mtx2']\n",
    "M2"
   ]
  },
  {
   "cell_type": "code",
   "execution_count": 10,
   "id": "1b2f7bee",
   "metadata": {},
   "outputs": [
    {
     "data": {
      "text/plain": [
       "array([3.68993791e+00, 3.25816135e-16, 1.25679497e-18])"
      ]
     },
     "execution_count": 10,
     "metadata": {},
     "output_type": "execute_result"
    }
   ],
   "source": [
    "U, S, Vt = np.linalg.svd(M2)\n",
    "S"
   ]
  },
  {
   "cell_type": "markdown",
   "id": "1e5962f4",
   "metadata": {},
   "source": [
    "1)\n",
    "\n",
    "$M_2$ has just one singular value. So the null space is spanned by the last two columns of $V$.\n",
    "\n",
    "If we sample a vector from the null space and apply $M_2$, we get the zero vector."
   ]
  },
  {
   "cell_type": "code",
   "execution_count": 11,
   "id": "0c99c6a6",
   "metadata": {},
   "outputs": [
    {
     "data": {
      "text/plain": [
       "array([ 1.41060538e-16, -2.97591557e-16, -6.86318549e-16])"
      ]
     },
     "execution_count": 11,
     "metadata": {},
     "output_type": "execute_result"
    }
   ],
   "source": [
    "v = np.dot(Vt.T[:, -2:], np.random.randn(2))\n",
    "np.dot(M2, v)"
   ]
  },
  {
   "cell_type": "markdown",
   "id": "1cf5b884",
   "metadata": {},
   "source": [
    "2)\n",
    "\n",
    "Since $M_2$ has one singular value, the first column of $U$ spans the range space. Sample a random vector $\\vec{y}$ from the range space."
   ]
  },
  {
   "cell_type": "code",
   "execution_count": 12,
   "id": "7664b217",
   "metadata": {},
   "outputs": [
    {
     "data": {
      "text/plain": [
       "array([-0.1673523 ,  0.36690132,  0.90868972])"
      ]
     },
     "execution_count": 12,
     "metadata": {},
     "output_type": "execute_result"
    }
   ],
   "source": [
    "y = U[:, 0] * np.random.randn()\n",
    "y"
   ]
  },
  {
   "cell_type": "markdown",
   "id": "cf8aa426",
   "metadata": {},
   "source": [
    "Find an $\\vec{x}$ such that $\\vec{y} = M_2 \\vec{x}$."
   ]
  },
  {
   "cell_type": "code",
   "execution_count": 13,
   "id": "23620824",
   "metadata": {},
   "outputs": [
    {
     "data": {
      "text/plain": [
       "array([ 0.0856405 , -0.00527391,  0.25539477])"
      ]
     },
     "execution_count": 13,
     "metadata": {},
     "output_type": "execute_result"
    }
   ],
   "source": [
    "S_inv = np.diag([1 / S[0], 0, 0])\n",
    "M_inv = np.dot(np.dot(Vt.T, S_inv), U.T)\n",
    "x = np.dot(M_inv, y)\n",
    "x"
   ]
  },
  {
   "cell_type": "code",
   "execution_count": 14,
   "id": "ce75c6b2",
   "metadata": {},
   "outputs": [
    {
     "data": {
      "text/plain": [
       "True"
      ]
     },
     "execution_count": 14,
     "metadata": {},
     "output_type": "execute_result"
    }
   ],
   "source": [
    "np.allclose(y, np.dot(M2, x))"
   ]
  },
  {
   "cell_type": "markdown",
   "id": "135bbb0a",
   "metadata": {},
   "source": [
    "### M3"
   ]
  },
  {
   "cell_type": "code",
   "execution_count": 15,
   "id": "c024ccf4",
   "metadata": {},
   "outputs": [
    {
     "data": {
      "text/plain": [
       "array([[-0.52084555,  3.27506098],\n",
       "       [ 0.75993107, -0.69773866],\n",
       "       [-0.60979668, -4.31920227]])"
      ]
     },
     "execution_count": 15,
     "metadata": {},
     "output_type": "execute_result"
    }
   ],
   "source": [
    "M3 = data['mtx3']\n",
    "M3"
   ]
  },
  {
   "cell_type": "code",
   "execution_count": 16,
   "id": "b72dff20",
   "metadata": {},
   "outputs": [
    {
     "data": {
      "text/plain": [
       "array([5.46570167, 1.1023178 ])"
      ]
     },
     "execution_count": 16,
     "metadata": {},
     "output_type": "execute_result"
    }
   ],
   "source": [
    "U, S, Vt = np.linalg.svd(M3)\n",
    "S"
   ]
  },
  {
   "cell_type": "markdown",
   "id": "a279b26f",
   "metadata": {},
   "source": [
    "1)\n",
    "\n",
    "Since there are 2 input dimensions and 2 singular values, the transform does not have a null space."
   ]
  },
  {
   "cell_type": "markdown",
   "id": "509f90cb",
   "metadata": {},
   "source": [
    "2)\n",
    "\n",
    "Since there are 3 output dimensions and only 2 singular values, the range space is spanned by the first two columns of $U$.\n",
    "\n",
    "We can sample a random vector $\\vec{y}$ from the range space and solve for $\\vec{x}$ such that $\\vec{y} = M_3 \\vec{x}$."
   ]
  },
  {
   "cell_type": "code",
   "execution_count": 17,
   "id": "8ae926a8",
   "metadata": {},
   "outputs": [
    {
     "data": {
      "text/plain": [
       "array([-0.53561024, -0.45220568,  1.83792154])"
      ]
     },
     "execution_count": 17,
     "metadata": {},
     "output_type": "execute_result"
    }
   ],
   "source": [
    "y = np.dot(U[:, :2], np.random.randn(2))\n",
    "y"
   ]
  },
  {
   "cell_type": "code",
   "execution_count": 18,
   "id": "c310eae2",
   "metadata": {},
   "outputs": [
    {
     "data": {
      "text/plain": [
       "array([-0.87264112, -0.30232154])"
      ]
     },
     "execution_count": 18,
     "metadata": {},
     "output_type": "execute_result"
    }
   ],
   "source": [
    "S_inv = np.diag(1 / S)\n",
    "S_inv = np.concatenate([S_inv, [[0], [0]]], axis=1)\n",
    "M_inv = np.dot(np.dot(Vt.T, S_inv), U.T)\n",
    "x = np.dot(M_inv, y)\n",
    "x"
   ]
  },
  {
   "cell_type": "code",
   "execution_count": 19,
   "id": "ebf8f7b3",
   "metadata": {},
   "outputs": [
    {
     "data": {
      "text/plain": [
       "True"
      ]
     },
     "execution_count": 19,
     "metadata": {},
     "output_type": "execute_result"
    }
   ],
   "source": [
    "np.allclose(y, np.dot(M3, x))"
   ]
  },
  {
   "cell_type": "markdown",
   "id": "887ee6d4",
   "metadata": {},
   "source": [
    "### M4"
   ]
  },
  {
   "cell_type": "code",
   "execution_count": 20,
   "id": "0f1e8c75",
   "metadata": {},
   "outputs": [
    {
     "data": {
      "text/plain": [
       "array([[-0.095065  ,  0.7939639 ],\n",
       "       [ 0.85959259,  0.27567482]])"
      ]
     },
     "execution_count": 20,
     "metadata": {},
     "output_type": "execute_result"
    }
   ],
   "source": [
    "M4 = data['mtx4']\n",
    "M4"
   ]
  },
  {
   "cell_type": "code",
   "execution_count": 21,
   "id": "cfeac4d9",
   "metadata": {},
   "outputs": [
    {
     "data": {
      "text/plain": [
       "array([0.94338616, 0.75122208])"
      ]
     },
     "execution_count": 21,
     "metadata": {},
     "output_type": "execute_result"
    }
   ],
   "source": [
    "U, S, Vt = np.linalg.svd(M4)\n",
    "S"
   ]
  },
  {
   "cell_type": "markdown",
   "id": "a78c2c7d",
   "metadata": {},
   "source": [
    "1)\n",
    "\n",
    "Since there are 2 input dimensions and 2 singular values, the transform does not have a null space."
   ]
  },
  {
   "cell_type": "markdown",
   "id": "ef028adb",
   "metadata": {},
   "source": [
    "2)\n",
    "\n",
    "Since there are 2 output dimensions and 2 singular values, the range space is the column space of U.\n",
    "\n",
    "Sample a random vector $\\vec{y}$ from the range space and solve for $\\vec{x}$ such that $\\vec{y} = M_3 \\vec{x}$."
   ]
  },
  {
   "cell_type": "code",
   "execution_count": 22,
   "id": "c03dd899",
   "metadata": {},
   "outputs": [
    {
     "data": {
      "text/plain": [
       "array([ 0.6986013, -1.283732 ])"
      ]
     },
     "execution_count": 22,
     "metadata": {},
     "output_type": "execute_result"
    }
   ],
   "source": [
    "y = np.dot(U, np.random.randn(2))\n",
    "y"
   ]
  },
  {
   "cell_type": "code",
   "execution_count": 23,
   "id": "45ed7aeb",
   "metadata": {},
   "outputs": [
    {
     "data": {
      "text/plain": [
       "array([-1.7099428 ,  0.67515109])"
      ]
     },
     "execution_count": 23,
     "metadata": {},
     "output_type": "execute_result"
    }
   ],
   "source": [
    "S_inv = np.diag(1 / S)\n",
    "M_inv = np.dot(np.dot(Vt.T, S_inv), U.T)\n",
    "x = np.dot(M_inv, y)\n",
    "x"
   ]
  },
  {
   "cell_type": "code",
   "execution_count": 24,
   "id": "e6ed1643",
   "metadata": {},
   "outputs": [
    {
     "data": {
      "text/plain": [
       "True"
      ]
     },
     "execution_count": 24,
     "metadata": {},
     "output_type": "execute_result"
    }
   ],
   "source": [
    "np.allclose(y, np.dot(M4, x))"
   ]
  },
  {
   "cell_type": "markdown",
   "id": "39075dfd",
   "metadata": {},
   "source": [
    "### M5"
   ]
  },
  {
   "cell_type": "code",
   "execution_count": 25,
   "id": "f114d67d",
   "metadata": {},
   "outputs": [
    {
     "data": {
      "text/plain": [
       "array([[-3.44738961, -5.50282864],\n",
       "       [-3.19713133, -5.10335872]])"
      ]
     },
     "execution_count": 25,
     "metadata": {},
     "output_type": "execute_result"
    }
   ],
   "source": [
    "M5 = data['mtx5']\n",
    "M5"
   ]
  },
  {
   "cell_type": "code",
   "execution_count": 26,
   "id": "10ec5ec9",
   "metadata": {},
   "outputs": [
    {
     "data": {
      "text/plain": [
       "array([8.85615815e+00, 2.40750870e-16])"
      ]
     },
     "execution_count": 26,
     "metadata": {},
     "output_type": "execute_result"
    }
   ],
   "source": [
    "U, S, Vt = np.linalg.svd(M5)\n",
    "S"
   ]
  },
  {
   "cell_type": "markdown",
   "id": "0ff6dc4c",
   "metadata": {},
   "source": [
    "1)\n",
    "\n",
    "The input space has 2 dimensions and there is just one singular value, so the second column of $V$ spans the null space.\n",
    "\n",
    "If we sample a random vector from the null space and apply $M_5$, we get the zero vector."
   ]
  },
  {
   "cell_type": "code",
   "execution_count": 27,
   "id": "a070c36f",
   "metadata": {},
   "outputs": [
    {
     "data": {
      "text/plain": [
       "array([1.49850853e-15, 1.05727513e-15])"
      ]
     },
     "execution_count": 27,
     "metadata": {},
     "output_type": "execute_result"
    }
   ],
   "source": [
    "v = Vt.T[:, 1] * np.random.randn()\n",
    "np.dot(M5, v)"
   ]
  },
  {
   "cell_type": "markdown",
   "id": "00fae534",
   "metadata": {},
   "source": [
    "2)\n",
    "\n",
    "Since the output space has 2 dimensions and there is one singular value, the first column of U spans the range space.\n",
    "\n",
    "Sample a vector $\\vec{y}$ from the range space and solve for $\\vec{x}$ such that $\\vec{y} = M_3 \\vec{x}$."
   ]
  },
  {
   "cell_type": "code",
   "execution_count": 28,
   "id": "c2c3f8ac",
   "metadata": {},
   "outputs": [
    {
     "data": {
      "text/plain": [
       "array([0.80923837, 0.75049288])"
      ]
     },
     "execution_count": 28,
     "metadata": {},
     "output_type": "execute_result"
    }
   ],
   "source": [
    "y = np.dot(U[:, 0], np.random.randn())\n",
    "y"
   ]
  },
  {
   "cell_type": "code",
   "execution_count": 29,
   "id": "63664422",
   "metadata": {},
   "outputs": [
    {
     "data": {
      "text/plain": [
       "array([-0.06616196, -0.10560974])"
      ]
     },
     "execution_count": 29,
     "metadata": {},
     "output_type": "execute_result"
    }
   ],
   "source": [
    "S_inv = np.diag([1 / S[0], 0])\n",
    "M_inv = np.dot(np.dot(Vt.T, S_inv), U.T)\n",
    "x = np.dot(M_inv, y)\n",
    "x"
   ]
  },
  {
   "cell_type": "code",
   "execution_count": 30,
   "id": "4aeda18a",
   "metadata": {},
   "outputs": [
    {
     "data": {
      "text/plain": [
       "True"
      ]
     },
     "execution_count": 30,
     "metadata": {},
     "output_type": "execute_result"
    }
   ],
   "source": [
    "np.allclose(y, np.dot(M5, x))"
   ]
  },
  {
   "cell_type": "code",
   "execution_count": null,
   "id": "4f9c301e",
   "metadata": {},
   "outputs": [],
   "source": []
  }
 ],
 "metadata": {
  "language_info": {
   "codemirror_mode": {
    "name": "ipython",
    "version": 3
   },
   "file_extension": ".py",
   "mimetype": "text/x-python",
   "name": "python",
   "nbconvert_exporter": "python",
   "pygments_lexer": "ipython3",
   "version": "3.10.6"
  }
 },
 "nbformat": 4,
 "nbformat_minor": 5
}
