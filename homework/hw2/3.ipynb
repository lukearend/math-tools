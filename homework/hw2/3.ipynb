{
 "cells": [
  {
   "cell_type": "code",
   "execution_count": 108,
   "id": "df57ad2c",
   "metadata": {},
   "outputs": [
    {
     "data": {
      "text/plain": [
       "array([0.24, 0.54])"
      ]
     },
     "execution_count": 108,
     "metadata": {},
     "output_type": "execute_result"
    }
   ],
   "source": [
    "import scipy\n",
    "obj = scipy.io.loadmat('mt2files/constrainedLS.mat')\n",
    "D = obj['data']\n",
    "w = np.squeeze(obj['w'])\n",
    "w"
   ]
  },
  {
   "cell_type": "code",
   "execution_count": 109,
   "id": "35b7d9b6",
   "metadata": {},
   "outputs": [],
   "source": [
    "import numpy as np\n",
    "U, s, Vt = np.linalg.svd(D)"
   ]
  },
  {
   "cell_type": "markdown",
   "id": "96a59be2",
   "metadata": {},
   "source": [
    "Given vectors $\\{\\vec d_{n}\\}$ and $\\vec w$, we want to minimize $\\sum_{n} (\\vec\\beta^T \\vec d_{n})^2$ subject to the constraint $\\vec\\beta^T \\vec w = 1$. Assume the data matrix $D$ has the singular value decomposition $USV^T$. Then we have the matrix problem\n",
    "\n",
    "Find $\\vec\\beta$ that minimizes $\\lVert USV^T \\vec\\beta \\rVert^2$ such that $\\vec\\beta^T \\vec w = 1$.\n",
    "\n",
    "We apply a change of variables to $\\vec\\beta$ to eliminate $V^T$. In particular we define a new variable $\\vec\\beta^*$ which is $\\vec\\beta$ rotated by $V^T$. The new constraint vector becomes $\\vec w^* = V^T \\vec w$. Then our problem is\n",
    "\n",
    "Find $\\vec\\beta^*$ that minimizes $\\lVert US\\vec\\beta^* \\rVert^2$ such that ${\\vec\\beta^*}^T \\vec w^* = 1$.\n",
    "\n",
    "To eliminate $S$ we scale $\\vec\\beta^*$ by $S$. This gives us a new variable $\\tilde\\beta = S \\vec\\beta^*$ and new constraint vector $\\tilde{w} = S^{-1} \\vec{w}^*$. Now our problem is\n",
    "\n",
    "Find $\\tilde\\beta$ that minimizes $\\lVert U\\tilde\\beta \\rVert^2$ such that ${\\tilde\\beta}^T \\tilde{w} = 1$.\n",
    "\n",
    "$U$ rotates $\\tilde\\beta$ by an orthonormal matrix, leaving its magnitude unchanged. So the quantity to be minimized is just $\\lVert \\tilde\\beta \\rVert^2$.\n",
    "\n",
    "The shortest $\\tilde\\beta$ which satisfies ${\\tilde\\beta}^T \\tilde{w} = 1$ must point in the same direction as $\\tilde{w}$ and have length $\\frac{1}{\\lVert \\tilde{w} \\rVert}$, so that its dot product with $\\tilde{w}$ is 1. Therefore $\\tilde\\beta = \\frac{\\tilde{w}}{\\lVert \\tilde{w} \\rVert^2}$.\n",
    "\n",
    "We can write $\\tilde{w}$ in terms of $\\vec{w}$, the initial constraint: $\\tilde{w} = S^{-1} \\vec{w}^* = S^{-1} V^T \\vec{w}$.\n",
    "\n",
    "$\\tilde{w}$ and $\\tilde\\beta$ are denoted `w1` and `b1` in the code below."
   ]
  },
  {
   "cell_type": "code",
   "execution_count": 118,
   "id": "7c37b11e",
   "metadata": {},
   "outputs": [],
   "source": [
    "w1 = np.diag(1 / s) @ Vt @ w\n",
    "b1 = w1 / (w1 @ w1)"
   ]
  },
  {
   "cell_type": "markdown",
   "id": "bb65c869",
   "metadata": {},
   "source": [
    "# TODO: plot stuff, answer question"
   ]
  },
  {
   "cell_type": "code",
   "execution_count": 116,
   "id": "d5e7e3ef",
   "metadata": {},
   "outputs": [],
   "source": [
    "b = V @ np.diag(1 / s) @ b1"
   ]
  },
  {
   "cell_type": "code",
   "execution_count": 117,
   "id": "b2c34d6d",
   "metadata": {},
   "outputs": [
    {
     "data": {
      "text/plain": [
       "1.0"
      ]
     },
     "execution_count": 117,
     "metadata": {},
     "output_type": "execute_result"
    }
   ],
   "source": [
    "b @ w"
   ]
  },
  {
   "cell_type": "markdown",
   "id": "12d90a17",
   "metadata": {},
   "source": [
    "# TODO: plot stuff, answer question"
   ]
  },
  {
   "cell_type": "code",
   "execution_count": null,
   "id": "6be34fdf",
   "metadata": {},
   "outputs": [],
   "source": []
  }
 ],
 "metadata": {
  "kernelspec": {
   "display_name": "Python 3",
   "language": "python",
   "name": "python3"
  },
  "language_info": {
   "codemirror_mode": {
    "name": "ipython",
    "version": 3
   },
   "file_extension": ".py",
   "mimetype": "text/x-python",
   "name": "python",
   "nbconvert_exporter": "python",
   "pygments_lexer": "ipython3",
   "version": "3.10.6"
  }
 },
 "nbformat": 4,
 "nbformat_minor": 5
}
