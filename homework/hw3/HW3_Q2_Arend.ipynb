{
 "cells": [
  {
   "cell_type": "markdown",
   "id": "e3558080-2d45-4cc5-8e11-dd29a4ad8f39",
   "metadata": {},
   "source": [
    "# Homework 3 - Question 2 - Luke Arend"
   ]
  },
  {
   "cell_type": "code",
   "execution_count": null,
   "id": "bcf7445c-c806-4173-972a-7595ca03acc9",
   "metadata": {},
   "outputs": [],
   "source": [
    "import numpy as np\n",
    "import pandas as pd\n",
    "import seaborn as sns\n",
    "from matplotlib import pyplot as plt"
   ]
  },
  {
   "cell_type": "markdown",
   "id": "40e9ed25-31b2-4e34-ba8d-771e3c2dfdd9",
   "metadata": {},
   "source": [
    "The response properties of neurons in primary visual cortex (area V1) are often described using linear filters. We’ll examine a one-dimensional cross-section of the most common choice, known as a “Gabor filter” (named after Electrical Engineer/Physicist Denis Gabor, who developed it in 1946 for use in signal processing)."
   ]
  },
  {
   "cell_type": "markdown",
   "id": "dc8a388e-63e2-49f2-b328-7cfd232088d3",
   "metadata": {
    "jp-MarkdownHeadingCollapsed": true
   },
   "source": [
    "# a)\n",
    "\n",
    "Create a one-dimensional linear filter that is a product of a Gaussian and a sinusoid, $e^{−\\frac{n2}{2σ2}} \\cos{ωn}$, with parameters $σ = 3.5$ samples and $ω = 2π * 10/64$ radians/sample. The filter should contain 31 samples, and the Gaussian should be centered on the middle (16th) sample. Plot the filter to verify that it looks like what you’d expect. Plot the amplitude of the Fourier transform of this filter, sampled at 64 locations (MATLAB’s `fft` function takes an optional additional argument). What kind of filter is this? Why does it have this shape, and how is the shape related to the choice of parameters $(σ, ω)$? Specifically, how does the Fourier amplitude change if you alter each of these parameters?"
   ]
  },
  {
   "cell_type": "markdown",
   "id": "4e2e60ee-27f2-4c6a-bb90-8b49571716cf",
   "metadata": {},
   "source": [
    "# b)\n",
    "\n",
    "If you were to convolve this filter with sinusoids of different frequencies, which of them would produce a response with the largest amplitude? Obtain this answer by reasoning about the equation defining the filter (above), and also by finding the maximum of the computed Fourier amplitudes (using the `max` function), and verify that the answers are the same. Compute the _period_ of this sinusoid, measured in units of sample spacing, and verify by eye that this is matched to the oscillations in your plot of the filter. Which two sinusoids would produce responses with about 25% of this maximal amplitude?"
   ]
  },
  {
   "cell_type": "markdown",
   "id": "e1409d54-5e88-4e0d-a8ec-57c027c04b5f",
   "metadata": {},
   "source": [
    "# c)\n",
    "\n",
    "Create three unit-amplitude 64-sample sinusoidal signals at the three frequencies (low, mid, high) that you found in part (b). Convolve the filter with each, and verify that the amplitude of the response is approximately consistent with the answers you gave in part (b). (Hint: to estimate amplitude, you’ll either need to project the response onto sine and cosine of the appropriate frequency, or compute the DFT of the response and measure the amplitude at the appropriate frequency.)"
   ]
  },
  {
   "cell_type": "code",
   "execution_count": null,
   "id": "90afdca9-4402-455b-a1f5-062021766448",
   "metadata": {},
   "outputs": [],
   "source": []
  }
 ],
 "metadata": {
  "kernelspec": {
   "display_name": "Python 3 (ipykernel)",
   "language": "python",
   "name": "python3"
  },
  "language_info": {
   "codemirror_mode": {
    "name": "ipython",
    "version": 3
   },
   "file_extension": ".py",
   "mimetype": "text/x-python",
   "name": "python",
   "nbconvert_exporter": "python",
   "pygments_lexer": "ipython3",
   "version": "3.10.6"
  }
 },
 "nbformat": 4,
 "nbformat_minor": 5
}
