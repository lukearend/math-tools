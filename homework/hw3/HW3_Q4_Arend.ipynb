{
 "cells": [
  {
   "cell_type": "markdown",
   "id": "e3558080-2d45-4cc5-8e11-dd29a4ad8f39",
   "metadata": {},
   "source": [
    "# Homework 3 - Question 4 - Luke Arend"
   ]
  },
  {
   "cell_type": "code",
   "execution_count": null,
   "id": "bcf7445c-c806-4173-972a-7595ca03acc9",
   "metadata": {},
   "outputs": [],
   "source": [
    "import numpy as np\n",
    "import pandas as pd\n",
    "import seaborn as sns\n",
    "from matplotlib import pyplot as plt"
   ]
  },
  {
   "cell_type": "markdown",
   "id": "eead0ff4-3419-44a1-bcfe-fd55511571fd",
   "metadata": {},
   "source": [
    "Load the file `myMeasurements.mat` into Matlab. It contains a vector, `sig`, containing voltage values measured from an EEG electrode, sampled at 120 Hz. Plot `sig` as a function of vector time (time, in seconds), using the flag `'ko-'` in matlab’s plot command so you can see the samples."
   ]
  },
  {
   "cell_type": "markdown",
   "id": "dc8a388e-63e2-49f2-b328-7cfd232088d3",
   "metadata": {},
   "source": [
    "# a)\n",
    "\n",
    "The voltage signal is densely sampled (120 Hz), and thus expensive to store. Create a subsampled version of the signal, which contains every fourth value. Plot this, against the corresponding entries of the time vector, on top of the original data (use matlab’s `hold` function, and plot with flag `'r*-'`). Is the subsampling operation linear? Shift-invariant? How does this reduced version of the data look, compared to the original? Does it provide a good summary of the original measurements? Explain."
   ]
  },
  {
   "cell_type": "markdown",
   "id": "4e2e60ee-27f2-4c6a-bb90-8b49571716cf",
   "metadata": {},
   "source": [
    "# b)\n",
    "\n",
    "Examine your EEG result in the frequency domain. First plot the magnitude (amplitude) of the Fourier transform of the original signal, over the range $[−N/2, (N/2) − 1]$ (use `fftshift`). By convention, the “Delta” band corresponds to frequencies less than 4 Hz, “Theta” band is 4-7 Hz, “Alpha” band 8-15 Hz, and “Beta” is 16-31 Hz. For these data, which band shows the strongest signal? Is there any power in frequencies outside of these known bands, and if so can you explain the origin of this part of the signal?"
   ]
  },
  {
   "cell_type": "markdown",
   "id": "e1409d54-5e88-4e0d-a8ec-57c027c04b5f",
   "metadata": {},
   "source": [
    "# c)\n",
    "\n",
    "Write a function `signalPart = bandWiseReconstruct(bandName)` that reconstructs the signal (and plots the reconstruction) using only sinusoids from the band correspond- ing to the string bandName (i.e. for `bandName = 'Delta'` the reconstruction should be a sum of sinusoids with frequencies from 0-4 Hz)."
   ]
  },
  {
   "cell_type": "markdown",
   "id": "05379d04-05be-4fcb-a31d-772737134dd0",
   "metadata": {},
   "source": [
    "# d)\n",
    "\n",
    "Plot the Fourier magnitude for signals downsampled by factors of 2, 3, and 4, after upsampling them back to full size (i.e., make a full-size signal filled with zeros, and set every $k$th sample equal to one of the subsampled values, for subsampling by factor $k$). What is the relationship between these plots and the original frequency plot. What has happened to the frequency components of the original signal? Does the strongest signal band change?"
   ]
  },
  {
   "cell_type": "code",
   "execution_count": null,
   "id": "90afdca9-4402-455b-a1f5-062021766448",
   "metadata": {},
   "outputs": [],
   "source": []
  }
 ],
 "metadata": {
  "kernelspec": {
   "display_name": "Python 3 (ipykernel)",
   "language": "python",
   "name": "python3"
  },
  "language_info": {
   "codemirror_mode": {
    "name": "ipython",
    "version": 3
   },
   "file_extension": ".py",
   "mimetype": "text/x-python",
   "name": "python",
   "nbconvert_exporter": "python",
   "pygments_lexer": "ipython3",
   "version": "3.10.6"
  }
 },
 "nbformat": 4,
 "nbformat_minor": 5
}
