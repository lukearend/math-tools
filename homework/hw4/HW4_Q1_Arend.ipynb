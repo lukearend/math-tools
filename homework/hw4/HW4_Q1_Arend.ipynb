{
 "cells": [
  {
   "cell_type": "markdown",
   "id": "59dc3be5-cf85-443e-9be6-176f3b961a84",
   "metadata": {},
   "source": [
    "# Homework 4 - Question 1 - Luke Arend"
   ]
  },
  {
   "cell_type": "markdown",
   "id": "c1209fa5-e577-4916-ba89-7ccc762a27b1",
   "metadata": {},
   "source": [
    "Middleville is a town of families, each with exactly two children. Each child\n",
    "can have either blue eyes or green eyes, and a family can have any combination of blue-eyed\n",
    "or green-eyed children. In this problem, you’ll use Matlab to simulate this situation and\n",
    "compute approximate solutions."
   ]
  },
  {
   "cell_type": "markdown",
   "id": "220f5215-6a07-4943-aeab-8e7836de5855",
   "metadata": {},
   "source": [
    "# a) \n",
    "\n",
    "Create a function `Bernoulli(alpha,M,N)` that returns an $M$x$N$ matrix of independently\n",
    "and randomly selected 0s and 1s, where the probability of a 1 is alpha (i.e., the function\n",
    "should generate $M$x$N$ samples from the Bernoulli distribution with parameter alpha\n",
    "formatted into a $M$x$N$ matrix)."
   ]
  },
  {
   "cell_type": "markdown",
   "id": "cfdf8e00-a274-4bdb-a0bb-0bbc30d0f9e0",
   "metadata": {},
   "source": [
    "# b)\n",
    "\n",
    "Use your function to generate an example of 10 Middleville families (a 10x2 matrix),\n",
    "assuming `alpha=0.5`. Compute a vector containing the indices of the families that have\n",
    "at least one blue-eyed child. How many of these are there (as a fraction of the total\n",
    "number of families)? Do this 50 times, computing the proportion containing at least one\n",
    "blue-eyed child for each. Plot a histogram of these 50 values. What is the average value?\n",
    "The standard deviation? Now do this all again, but for populations of 40 families, 90\n",
    "families, and 160 families. What average and standard deviation do you measure for\n",
    "each of these population sizes? In general, what happens to the average and standard\n",
    "deviation as the number of families in the population grows?"
   ]
  },
  {
   "cell_type": "markdown",
   "id": "ac313d30-a95e-47d5-b4af-48db3b0eb3bb",
   "metadata": {},
   "source": [
    "# c)\n",
    "\n",
    "Now consider conditional probability $P[A|B]$ where the event $A$ is ”the family has one\n",
    "or more green-eyed child” and the event $B$ is ”the family has one or more blue-eyed\n",
    "child”. What is the value of this (again, assuming `alpha=0.5`). Now estimate this from a\n",
    "simulated population (as in previous part), in two different ways. First, find the indices\n",
    "of all families satisfying $B$, make a new matrix containing these, and then compute the\n",
    "proportion of these that satisfy $A$. Second, use the definition of conditional probability:\n",
    "count the number of families satisfying both $A$ and $B$, and then dividing by the number\n",
    "satisfying $B$. Convince yourself that these compute the same value by running them both\n",
    "on some large populations. As in 1B, run one of these methods on 50 populations of 10\n",
    "families, and plot a histogram of the estimated values. Re-compute for a population of\n",
    "10,000 families."
   ]
  },
  {
   "cell_type": "code",
   "execution_count": null,
   "id": "a275c06b-9115-49f2-a5e9-1a67c47f0535",
   "metadata": {},
   "outputs": [],
   "source": []
  }
 ],
 "metadata": {
  "kernelspec": {
   "display_name": "Python 3 (ipykernel)",
   "language": "python",
   "name": "python3"
  },
  "language_info": {
   "codemirror_mode": {
    "name": "ipython",
    "version": 3
   },
   "file_extension": ".py",
   "mimetype": "text/x-python",
   "name": "python",
   "nbconvert_exporter": "python",
   "pygments_lexer": "ipython3",
   "version": "3.10.6"
  }
 },
 "nbformat": 4,
 "nbformat_minor": 5
}
