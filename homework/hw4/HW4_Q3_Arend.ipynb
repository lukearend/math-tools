{
 "cells": [
  {
   "cell_type": "markdown",
   "id": "59dc3be5-cf85-443e-9be6-176f3b961a84",
   "metadata": {},
   "source": [
    "# Homework 4 - Question 3 - Luke Arend"
   ]
  },
  {
   "cell_type": "markdown",
   "id": "bd35f9f5-b52a-4a3e-9917-2fe5ece1533f",
   "metadata": {},
   "source": [
    "The Central Limit theorem states that the distribution of\n",
    "the average of $n$ independent samples drawn from any fixed distribution with finite mean and\n",
    "variance, gets closer and closer to a Normal (Gaussian) distribution as $n$ increases. Specifically, if the mean and variance of the original distribution are $µ$ and $σ$, the distribution of $\\sqrt{n}(\\bar{x} − µ)/σ$ converges to $\\mathcal{N}(0, 1)$ as $n$ increases (where $\\bar{x}$ is the average of $n$ samples)."
   ]
  },
  {
   "cell_type": "markdown",
   "id": "e4fac5aa-5fd0-415b-b8c8-79619b3b359b",
   "metadata": {},
   "source": [
    "# (a)\n",
    "\n",
    "Generate 1,000 samples of two values each from a uniform distribution (use `rand`). Compute the average of each sample (pair of values), and plot a histogram of these. What\n",
    "shape is it, approximately? What shape should it have in the limit, as you gather more\n",
    "and more samples (try with 100,000 samples)? Why?"
   ]
  },
  {
   "cell_type": "markdown",
   "id": "47f8e744-6789-40e0-868c-767126314220",
   "metadata": {},
   "source": [
    "# (b)\n",
    "\n",
    "Now try this again with samples containing 3 values. How has the histogram changed?\n",
    "Try sample sizes of 4 and 5 as well. When do you judge that the histogram starts looking\n",
    "Normal?"
   ]
  },
  {
   "cell_type": "markdown",
   "id": "44a1ac3b-1f1e-4df3-8100-37f4b4a08809",
   "metadata": {},
   "source": [
    "# (c)\n",
    "\n",
    "Test the Normality of the distribution a bit more carefully, using a “Q-Q” (quantile-quantile) plot (plot the quantiles of one distribution against another). If the two distributions match, the values should lie on a unit-slope line. For this problem, you can\n",
    "use the matlab function `normplot`, which plots the quantiles of a sample of data against\n",
    "those of a Normal distribution of the same mean and variance. First, try this on a\n",
    "sample of 1,000 values from a normal distribution (use `randn`). The points should fall\n",
    "(close to) a straight line, indicating that the sample is close to normal, as expected. Try\n",
    "this a few times to see how the plot varies (you might want to put them on the same\n",
    "graph, using matlab’s `hold on` command). Now call `normplot` on a sample of 1,000\n",
    "values from a uniform distribution. Explain qualitatively why it has the shape it does\n",
    "(hint: think about the quantiles of the uniform and Normal distributions). Do this for\n",
    "averages of uniform samples of different size (2, 3, 4, ...). Keep increasing sample size\n",
    "until you cannot tell the resulting QQ plot from the QQ plots for samples from the\n",
    "Normal distribution. Roughly how big does the sample have to be?"
   ]
  },
  {
   "cell_type": "code",
   "execution_count": null,
   "id": "a275c06b-9115-49f2-a5e9-1a67c47f0535",
   "metadata": {},
   "outputs": [],
   "source": []
  }
 ],
 "metadata": {
  "kernelspec": {
   "display_name": "Python 3 (ipykernel)",
   "language": "python",
   "name": "python3"
  },
  "language_info": {
   "codemirror_mode": {
    "name": "ipython",
    "version": 3
   },
   "file_extension": ".py",
   "mimetype": "text/x-python",
   "name": "python",
   "nbconvert_exporter": "python",
   "pygments_lexer": "ipython3",
   "version": "3.10.6"
  }
 },
 "nbformat": 4,
 "nbformat_minor": 5
}
