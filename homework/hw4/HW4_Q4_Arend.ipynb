{
 "cells": [
  {
   "cell_type": "markdown",
   "id": "59dc3be5-cf85-443e-9be6-176f3b961a84",
   "metadata": {},
   "source": [
    "# Homework 4 - Question 4 - Luke Arend"
   ]
  },
  {
   "cell_type": "markdown",
   "id": "f84b00d7-2ea6-4973-9fd6-9e39839c7607",
   "metadata": {},
   "source": [
    "# (a)\n",
    "\n",
    "Write a function `samples = ndRandn(mean, cov, num)` that generates a set of samples drawn from an N-dimensional Gaussian distribution with the specified mean (an\n",
    "$N$-vector) and covariance (an $N$x$N$ matrix). The parameter num should be optional\n",
    "(defaulting to 1) and should specify the number of samples to return. The returned\n",
    "value should be a matrix with num rows each containing a sample of $N$ elements. (Hint:\n",
    "use the MATLAB function `randn` to generate samples from an $N$-dimensional Gaussian with zero mean and identity covariance matrix $X$, and then transform these to\n",
    "achieve the desired mean and covariance. Recall that the covariance of $Y = MX$ is\n",
    "$E(Y Y^T) = M C_X M^T$ where $C_X$ is the covariance of $X$.) For this, use mean $µ = [4, 5]$\n",
    "with $C_Y = [10, −4; −4, 5]$ to sample and scatterplot 1,000 points to verify your function\n",
    "worked as intended."
   ]
  },
  {
   "cell_type": "markdown",
   "id": "79c70acc-b9b9-4b76-b731-f5564c384234",
   "metadata": {},
   "source": [
    "# (b)\n",
    "\n",
    "Now consider the marginal distribution of a generalized 2-D Gaussian with mean $µ$ and\n",
    "covariance $C$ in which samples are projected onto a unit vector $\\hat{u}$ to obtain a 1-D distribution. Write a mathematical expression for the mean and variance of this marginal\n",
    "distribution as a function of $\\hat{u}$ and check it for a set of 48 unit vectors spaced evenly\n",
    "around the unit circle. For each of these, compare the mean and variance predicted from\n",
    "your mathematical expression to the sample mean and variance estimated by projecting\n",
    "your 1,000 samples from part (a) onto $\\hat{u}$. Stem plot the mathematically computed mean\n",
    "and the sample mean (on the same plot), and also plot the mathematical variance and\n",
    "the sample variance, both plotted as a function of the orientation of $\\hat{u}$ (relative to the\n",
    "$x$-axis)."
   ]
  },
  {
   "cell_type": "markdown",
   "id": "8e6e3e18-8633-44e6-b7a0-ebdac2d1175a",
   "metadata": {},
   "source": [
    "# (c)\n",
    "\n",
    "Now scatterplot 1,000 new samples of a 2-dimensional Gaussian using the same $µ$ and $C_Y$\n",
    "from part (a). Measure the sample mean and covariance of your data points, comparing\n",
    "to the values that you requested when calling the function. For each of the unit vectors\n",
    "from (b), find the two points on the line through the sample mean in the direction of\n",
    "that unit vector for which the Mahalanobis distance from the mean (i.e., the negative\n",
    "of the exponent of the Gaussian density) is equal to one. Plot a closed contour that\n",
    "connects all those points. Plot a second closed contour using the values of the mean and\n",
    "covariance you used to generate your sample. Try this on three additional random data\n",
    "sets with different means and covariance matrices. Does this contour capture the shape\n",
    "of the data?\n",
    "\n",
    "How would you, mathematically, compute the direction (unit vector) that maximizes\n",
    "the variance of the marginal distribution? How would you compute the direction that\n",
    "maximizes the distance corresponding to Mahalanobis distance equal to one? Compute\n",
    "these directions and verify that they are consistent with your plot."
   ]
  },
  {
   "cell_type": "code",
   "execution_count": null,
   "id": "a275c06b-9115-49f2-a5e9-1a67c47f0535",
   "metadata": {},
   "outputs": [],
   "source": []
  }
 ],
 "metadata": {
  "kernelspec": {
   "display_name": "Python 3 (ipykernel)",
   "language": "python",
   "name": "python3"
  },
  "language_info": {
   "codemirror_mode": {
    "name": "ipython",
    "version": 3
   },
   "file_extension": ".py",
   "mimetype": "text/x-python",
   "name": "python",
   "nbconvert_exporter": "python",
   "pygments_lexer": "ipython3",
   "version": "3.10.6"
  }
 },
 "nbformat": 4,
 "nbformat_minor": 5
}
