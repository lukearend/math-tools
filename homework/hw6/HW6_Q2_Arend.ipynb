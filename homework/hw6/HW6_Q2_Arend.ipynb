{
 "cells": [
  {
   "cell_type": "code",
   "execution_count": 1,
   "id": "53d0ae94-0eb4-419e-a0ea-7be5c577071f",
   "metadata": {},
   "outputs": [],
   "source": [
    "import pandas as pd\n",
    "from matplotlib import pyplot as plt\n",
    "from scipy.io import loadmat\n",
    "import seaborn as sns\n",
    "import numpy as np\n",
    "np.random.seed(0)"
   ]
  },
  {
   "cell_type": "markdown",
   "id": "906becf8-b825-4423-904f-240628878073",
   "metadata": {},
   "source": [
    "# Psychopathy"
   ]
  },
  {
   "cell_type": "markdown",
   "id": "e9e3d9b9-acd4-4c78-b94f-ae7cef0f5b77",
   "metadata": {},
   "source": [
    "You are interested in causes and treatment options for psychopathy. You obtained a dataset, contained in the file psychopathy.mat obtained from a prison for violent offenders in upstate New York (not everyone in the prison is a psychopath, but they are more prevalent than in the general population). All study participants underwent a structural scan with a mobile, truck-mounted MRI. Each row of the matrix represents data from one prisoner. The first column contains the estimated cortical volume of paralimbic areas, relative to the population median, in cm3. The second column contains the Hare Psychopathy Checklist (PCL-R) scores, which range from 0 to 40 (the higher the score, the more psychopathic traits someone exhibits). These scores are not distributed normally in either the general population (median = 4) or this prison subpopulation (median = 20). The third column indicates whether they already participated in an experimental treatment program known as “decompression therapy” (0 = did not yet participate, 1 = did already participate). To avoid self-selection effects, everyone in this dataset agreed to the therapy, but prisoners were randomly assigned to an earlier and a later treatment group, so that the untreated prisoners could serve as a control group."
   ]
  },
  {
   "cell_type": "code",
   "execution_count": 2,
   "id": "9fb3d85b-fd2d-4405-8992-c9fc276f66b6",
   "metadata": {},
   "outputs": [
    {
     "data": {
      "text/html": [
       "<div>\n",
       "<style scoped>\n",
       "    .dataframe tbody tr th:only-of-type {\n",
       "        vertical-align: middle;\n",
       "    }\n",
       "\n",
       "    .dataframe tbody tr th {\n",
       "        vertical-align: top;\n",
       "    }\n",
       "\n",
       "    .dataframe thead th {\n",
       "        text-align: right;\n",
       "    }\n",
       "</style>\n",
       "<table border=\"1\" class=\"dataframe\">\n",
       "  <thead>\n",
       "    <tr style=\"text-align: right;\">\n",
       "      <th></th>\n",
       "      <th>paralimbic_vol</th>\n",
       "      <th>pclr_score</th>\n",
       "      <th>treated</th>\n",
       "    </tr>\n",
       "    <tr>\n",
       "      <th>subject</th>\n",
       "      <th></th>\n",
       "      <th></th>\n",
       "      <th></th>\n",
       "    </tr>\n",
       "  </thead>\n",
       "  <tbody>\n",
       "    <tr>\n",
       "      <th>26</th>\n",
       "      <td>-1.924975</td>\n",
       "      <td>21</td>\n",
       "      <td>False</td>\n",
       "    </tr>\n",
       "    <tr>\n",
       "      <th>27</th>\n",
       "      <td>-1.140256</td>\n",
       "      <td>27</td>\n",
       "      <td>False</td>\n",
       "    </tr>\n",
       "    <tr>\n",
       "      <th>48</th>\n",
       "      <td>1.202118</td>\n",
       "      <td>21</td>\n",
       "      <td>False</td>\n",
       "    </tr>\n",
       "    <tr>\n",
       "      <th>22</th>\n",
       "      <td>1.254971</td>\n",
       "      <td>10</td>\n",
       "      <td>True</td>\n",
       "    </tr>\n",
       "    <tr>\n",
       "      <th>30</th>\n",
       "      <td>-1.017219</td>\n",
       "      <td>15</td>\n",
       "      <td>True</td>\n",
       "    </tr>\n",
       "  </tbody>\n",
       "</table>\n",
       "</div>"
      ],
      "text/plain": [
       "         paralimbic_vol  pclr_score  treated\n",
       "subject                                     \n",
       "26            -1.924975          21    False\n",
       "27            -1.140256          27    False\n",
       "48             1.202118          21    False\n",
       "22             1.254971          10     True\n",
       "30            -1.017219          15     True"
      ]
     },
     "metadata": {},
     "output_type": "display_data"
    }
   ],
   "source": [
    "X = loadmat('psychopathy.mat')['DATA']\n",
    "df = pd.DataFrame(X)\n",
    "df.index.name = 'subject'\n",
    "df.columns.name = 'measurement'\n",
    "df.columns = ['paralimbic_vol', 'pclr_score', 'treated']\n",
    "df = df.astype({'pclr_score': int, 'treated': bool})\n",
    "display(df.sample(5))"
   ]
  },
  {
   "cell_type": "markdown",
   "id": "30174c4b-d5f4-4911-9a18-8d21056e5764",
   "metadata": {},
   "source": [
    "# a)\n",
    "\n",
    "Use polynomial regression to model PCL-R scores as a function of relative volume of paralimbic areas. (Note, you might make use of your code from HW2.) Use cross-validation to determine the best polynomial degree."
   ]
  },
  {
   "cell_type": "code",
   "execution_count": 3,
   "id": "190db053-e487-4c7f-970c-7719e2344f9c",
   "metadata": {},
   "outputs": [],
   "source": [
    "def fit(X, y):\n",
    "    U, S, Vt = np.linalg.svd(X)\n",
    "    inds = np.arange(X.shape[1])\n",
    "    S_inv = np.zeros((X.shape[1], X.shape[0]))\n",
    "    S_inv[inds, inds] = 1 / S\n",
    "    X_inv = np.dot(Vt.T, np.dot(S_inv, U.T))\n",
    "    beta = np.squeeze(np.dot(X_inv, y))\n",
    "    return beta"
   ]
  },
  {
   "cell_type": "code",
   "execution_count": 4,
   "id": "422b4728-064e-4f57-9f66-8b9d0f39dd74",
   "metadata": {},
   "outputs": [],
   "source": [
    "def design_matrix(x, order=1):\n",
    "    n = len(x)\n",
    "    X = []\n",
    "    for i in range(order + 1):\n",
    "        X.append(x ** i)\n",
    "    return np.concatenate([X]).T"
   ]
  },
  {
   "cell_type": "markdown",
   "id": "901d5543-08b0-4562-a749-7d4b3513e60d",
   "metadata": {},
   "source": [
    "Run a leave-one-out cross-validation round on every sample in the dataset. We will average MSE across these runs to estimate generalization error for solutions of each order."
   ]
  },
  {
   "cell_type": "code",
   "execution_count": 5,
   "id": "6b221612-e8f0-426c-92a0-0e47be091418",
   "metadata": {},
   "outputs": [],
   "source": [
    "def hold_one_split(X, y, i):\n",
    "    return x.drop(index=i), y.drop(index=i), x.loc[i], y.loc[i]"
   ]
  },
  {
   "cell_type": "code",
   "execution_count": 6,
   "id": "1d3072ff-98a5-4386-915e-709a09189036",
   "metadata": {},
   "outputs": [],
   "source": [
    "x = df.paralimbic_vol\n",
    "y = df.pclr_score\n",
    "orders = pd.Series([1, 2, 3, 4, 5], name='order')\n",
    "mse = np.zeros((len(x), 5))\n",
    "for i in range(len(x)):\n",
    "    x_train, x_test, y_train, y_test = hold_one_split(x, y, i)\n",
    "    for order in orders:\n",
    "        X_train = design_matrix(x_train, order=order)\n",
    "        X_test = design_matrix(x_test, order=order)\n",
    "        beta = fit(X_train, y_train)\n",
    "        y_pred = X_test @ beta\n",
    "        mse[i, order - 1] = np.mean((y_pred - y_test) ** 2)"
   ]
  },
  {
   "cell_type": "markdown",
   "id": "6d5a554d-609b-4e96-aa3d-522f1456bf85",
   "metadata": {},
   "source": [
    "MSE measured over $k$-fold cross-validation, where $k$ is the number of samples in the dataset:"
   ]
  },
  {
   "cell_type": "code",
   "execution_count": 7,
   "id": "5a2a632a-6674-41d1-a37f-813795c401e2",
   "metadata": {},
   "outputs": [
    {
     "data": {
      "text/html": [
       "<div>\n",
       "<style scoped>\n",
       "    .dataframe tbody tr th:only-of-type {\n",
       "        vertical-align: middle;\n",
       "    }\n",
       "\n",
       "    .dataframe tbody tr th {\n",
       "        vertical-align: top;\n",
       "    }\n",
       "\n",
       "    .dataframe thead th {\n",
       "        text-align: right;\n",
       "    }\n",
       "</style>\n",
       "<table border=\"1\" class=\"dataframe\">\n",
       "  <thead>\n",
       "    <tr style=\"text-align: right;\">\n",
       "      <th>order</th>\n",
       "      <th>1</th>\n",
       "      <th>2</th>\n",
       "      <th>3</th>\n",
       "      <th>4</th>\n",
       "      <th>5</th>\n",
       "    </tr>\n",
       "  </thead>\n",
       "  <tbody>\n",
       "    <tr>\n",
       "      <th>mean</th>\n",
       "      <td>521.373184</td>\n",
       "      <td>606.884811</td>\n",
       "      <td>51080.329123</td>\n",
       "      <td>3.871023e+07</td>\n",
       "      <td>2.490201e+10</td>\n",
       "    </tr>\n",
       "    <tr>\n",
       "      <th>std</th>\n",
       "      <td>338.264853</td>\n",
       "      <td>380.468207</td>\n",
       "      <td>43551.055231</td>\n",
       "      <td>3.366031e+07</td>\n",
       "      <td>2.165602e+10</td>\n",
       "    </tr>\n",
       "  </tbody>\n",
       "</table>\n",
       "</div>"
      ],
      "text/plain": [
       "order           1           2             3             4             5\n",
       "mean   521.373184  606.884811  51080.329123  3.871023e+07  2.490201e+10\n",
       "std    338.264853  380.468207  43551.055231  3.366031e+07  2.165602e+10"
      ]
     },
     "metadata": {},
     "output_type": "display_data"
    }
   ],
   "source": [
    "display(pd.DataFrame(mse, columns=orders).describe().iloc[1:3])"
   ]
  },
  {
   "cell_type": "markdown",
   "id": "81497bfb-d55e-48c2-a79a-18e9a534e9ff",
   "metadata": {},
   "source": [
    "The first-order polynomial fits the target best, as it has the lowest averaged leave-one-out MSE (521). The standard deviation of these MSEs (for MSE is itself a random variable) is also the lowest for order 1.\n",
    "\n",
    "However, the MSE estimates for orders 1 and 2 are somewhat overlapping (note their standard deviation). So I'm not sure how confident we should be in using it for model selection."
   ]
  },
  {
   "attachments": {},
   "cell_type": "markdown",
   "id": "c9897694-f414-4475-a76c-16121a278e3f",
   "metadata": {},
   "source": [
    "# b)\n",
    "\n",
    "Use bootstrapping methods to estimate the 95% confidence interval of the average paralimbic volume of the decompression treatment group vs. the control group. If the random assignment worked, the confidence intervals should overlap. Do they? Also, do these data suggest that there is a statistically reliable difference from the general population, in terms of paralimbic volume?"
   ]
  },
  {
   "cell_type": "code",
   "execution_count": 8,
   "id": "e8e9e75b-cf98-461f-8310-b78124e45d71",
   "metadata": {},
   "outputs": [
    {
     "name": "stdout",
     "output_type": "stream",
     "text": [
      "Treated 95% confidence interval: [-1.3100843375340006, -0.7767115288206876]\n",
      "Untreated 95% confidence interval: [-1.0208844831583854, -0.22635649292108395]\n"
     ]
    }
   ],
   "source": [
    "treated = df[df.treated]\n",
    "untreated = df[~df.treated]\n",
    "\n",
    "treated_avgs = np.zeros(500)\n",
    "untreated_avgs = np.zeros(500)\n",
    "for i in range(500):\n",
    "    treated_resampled = treated.sample(len(treated), replace=True)\n",
    "    untreated_resampled = untreated.sample(len(untreated), replace=True)\n",
    "    treated_avgs[i] = treated_resampled.paralimbic_vol.mean()\n",
    "    untreated_avgs[i] = untreated_resampled.paralimbic_vol.mean()\n",
    "\n",
    "confidence = np.quantile(treated_avgs, [0.05, 0.95])\n",
    "print(f\"Treated 95% confidence interval: [{confidence[0]}, {confidence[1]}]\")\n",
    "confidence = np.quantile(untreated_avgs, [0.05, 0.95])\n",
    "print(f\"Untreated 95% confidence interval: [{confidence[0]}, {confidence[1]}]\")"
   ]
  },
  {
   "cell_type": "markdown",
   "id": "1623c011-b81e-4e8e-b296-476e67efed96",
   "metadata": {},
   "source": [
    "The confidence intervals overlap. We may interpret these data as saying that with 95% certainty, the true values for average treated and untreated relative paralimbic volume are between [-1.3 and -0.78] and [-1.0 and -0.23], respectively. This means that for both treated and untreated, there is <5% probability that the true value is greater than or equal to 0. In other words, if in fact there is no statistically reliable difference, we have <5% probability of incorrectly concluding there is a difference (rejecting the null hypothesis). This is equivalent to a p-value <0.05, meeting a conventional criterion for \"statistical significance\".\n",
    "\n",
    "However, I note that it is difficult to reason properly about statistical differences without access to the full distribution of paralimbic measurements from the general population. We only have access to a point estimate (the median) of the general population's paralimbic volume. Imagine that variability in the general population is already much greater than the widths of our confidence intervals. We do not know whether this is the case. If so, I doubt these confidence intervals should be interpreted as \"statistically reliable\"."
   ]
  },
  {
   "cell_type": "markdown",
   "id": "fb97a277-8ebb-4403-a5e7-829f154f13a1",
   "metadata": {},
   "source": [
    "# c)\n",
    "\n",
    "Do a permutation test to assess whether decompression therapy has an effect. Designate an appropriate test statistic and calculate its p-value."
   ]
  },
  {
   "cell_type": "markdown",
   "id": "5f2a85ab-dbc5-4582-890a-54a44c0b0d7d",
   "metadata": {},
   "source": [
    "We have already split the dataset into `treated` and `untreated` groups. We will test whether the difference in mean PCL-R score between the treated and untreated group is significantly greater than the expected difference in mean PCL-R scores for two equal-sized groups randomly sampled from the whole population."
   ]
  },
  {
   "cell_type": "code",
   "execution_count": 9,
   "id": "90f2319b-1f86-4398-8b8d-bb42d023273b",
   "metadata": {},
   "outputs": [],
   "source": [
    "diffs = np.zeros(10000)\n",
    "for i in range(10000):\n",
    "    pooled = pd.concat([treated, untreated])\n",
    "    shuffled = pooled.sample(len(pooled), replace=False)\n",
    "    group1 = shuffled.iloc[:len(pooled) // 2]\n",
    "    group2 = shuffled.iloc[len(pooled) // 2:]\n",
    "    mean1 = group1.pclr_score.mean()\n",
    "    mean2 = group2.pclr_score.mean()\n",
    "    diffs[i] = np.abs(mean2 - mean1)"
   ]
  },
  {
   "cell_type": "markdown",
   "id": "ed89ba0e-3b18-41cb-880f-333b0fc92864",
   "metadata": {},
   "source": [
    "Here is the distribution of differences for two groups randomly sampled from the population:"
   ]
  },
  {
   "cell_type": "code",
   "execution_count": 10,
   "id": "de730b2c-190e-4e37-8c7f-3b1f0adbb5e6",
   "metadata": {},
   "outputs": [
    {
     "data": {
      "image/png": "[encoded data removed]",
      "text/plain": [
       "<Figure size 800x300 with 1 Axes>"
      ]
     },
     "metadata": {},
     "output_type": "display_data"
    }
   ],
   "source": [
    "plt.subplots(figsize=(8, 3))\n",
    "plt.title('Test statistic distribution')\n",
    "plt.ylabel('Count')\n",
    "plt.xlabel('Difference between groups (null hypothesis)')\n",
    "sns.histplot(diffs)\n",
    "plt.show()"
   ]
  },
  {
   "cell_type": "markdown",
   "id": "d31f14ea-f512-4ad9-be9d-c30351921b1b",
   "metadata": {},
   "source": [
    "Now we compute mean PCL-R scores for the treated and untreated groups separately, and compare this difference to our null statistic."
   ]
  },
  {
   "cell_type": "code",
   "execution_count": 11,
   "id": "68c6d063-6167-4814-a3f3-11f58ef469d0",
   "metadata": {},
   "outputs": [
    {
     "name": "stdout",
     "output_type": "stream",
     "text": [
      "Treatment difference: 3.2285714285714278\n"
     ]
    }
   ],
   "source": [
    "mean_treated = treated.pclr_score.mean()\n",
    "mean_untreated = untreated.pclr_score.mean()\n",
    "treatment_diff = mean_untreated - mean_treated\n",
    "print(f\"Treatment difference: {treatment_diff}\")"
   ]
  },
  {
   "cell_type": "markdown",
   "id": "faa164da-7630-4ccc-8d6e-5c4adba634fd",
   "metadata": {},
   "source": [
    "How likely is it that a random sample drawn from the test statistic will exceed this difference value? We can simply ask what proportion of samples exceeded this value in our permutation test. That is our p-value."
   ]
  },
  {
   "cell_type": "code",
   "execution_count": 12,
   "id": "c4f7579d-6cc9-49fb-a792-cf4b8e812d7b",
   "metadata": {},
   "outputs": [
    {
     "data": {
      "text/plain": [
       "0.0882"
      ]
     },
     "execution_count": 12,
     "metadata": {},
     "output_type": "execute_result"
    }
   ],
   "source": [
    "p = np.sum(diffs > treatment_diff) / len(diffs)\n",
    "p"
   ]
  },
  {
   "cell_type": "markdown",
   "id": "db2b765c-2e30-469b-9473-024ed4dba693",
   "metadata": {},
   "source": [
    "Our p-value exceeds 0.08. So, by conventional standards the decompression therapy **does not** have a statistically significant effect."
   ]
  },
  {
   "cell_type": "code",
   "execution_count": null,
   "id": "4ab146ec-e6ad-47e4-99cb-4ec5daa5ab60",
   "metadata": {},
   "outputs": [],
   "source": []
  }
 ],
 "metadata": {
  "kernelspec": {
   "display_name": "Python 3 (ipykernel)",
   "language": "python",
   "name": "python3"
  },
  "language_info": {
   "codemirror_mode": {
    "name": "ipython",
    "version": 3
   },
   "file_extension": ".py",
   "mimetype": "text/x-python",
   "name": "python",
   "nbconvert_exporter": "python",
   "pygments_lexer": "ipython3",
   "version": "3.10.6"
  }
 },
 "nbformat": 4,
 "nbformat_minor": 5
}
