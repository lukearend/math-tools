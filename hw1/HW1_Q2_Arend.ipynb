{
 "cells": [
  {
   "cell_type": "markdown",
   "id": "71065b77",
   "metadata": {},
   "source": [
    "### Homework 1 - Question 2 - Luke Arend"
   ]
  },
  {
   "cell_type": "markdown",
   "id": "f22a0ce5",
   "metadata": {},
   "source": [
    "### a)"
   ]
  },
  {
   "cell_type": "markdown",
   "id": "21d512e2",
   "metadata": {},
   "source": [
    "0 → [1, -5]"
   ]
  },
  {
   "cell_type": "markdown",
   "id": "4f2c188f",
   "metadata": {},
   "source": [
    "This is not a linear system. If it is linear, there exists a 2x1 matrix $M$ (or 2-vector $\\vec{v}$) which when scaled by 0 gives the vector [1, -5]. Any vector scaled by 0 gives the zero vector so no such 2-vector exists."
   ]
  },
  {
   "cell_type": "markdown",
   "id": "19735c8b",
   "metadata": {},
   "source": [
    "### b)"
   ]
  },
  {
   "cell_type": "markdown",
   "id": "31368bdd",
   "metadata": {},
   "source": [
    "[3, 2] → 15\n",
    "\n",
    "[-2, 2] → 6"
   ]
  },
  {
   "cell_type": "markdown",
   "id": "f8f6ea5b",
   "metadata": {},
   "source": [
    "This might be a linear system. If so, a 1x2 matrix M (or 2-vector $\\vec{v}$) exists where $\\vec{v} \\cdot [3, 2] = 15$ and $\\vec{v} \\cdot [-2, 2] = 6$.\n",
    "\n",
    "Let $\\vec{v} = [x, y]$. Then $[x, y] \\cdot [3, 2] = 15$ and $[x, y] \\cdot [-2, 2] = 6$, which corresponds to the system of equations\n",
    "\n",
    "$3x + 2y = 15$\n",
    "\n",
    "$-2x + 2y = 6$."
   ]
  },
  {
   "cell_type": "markdown",
   "id": "d68d1e81",
   "metadata": {},
   "source": [
    "Solving for $y$ in the second equation, we get $y = (6 + 2x) / 2 = x + 3$.\n",
    "\n",
    "Substituting $x + 3$ for $y$ in the first equation gives\n",
    "\n",
    "$3x + 2(x + 3) = 5x + 6 = 15$.\n",
    "\n",
    "Solving for x, we get $x = (15 - 6) / 5 = 9/5$.\n",
    "\n",
    "Substituting $9/5$ for $x$ in the first equation gives\n",
    "\n",
    "$3(9/5) + 2y = 2y + 27/5 = 15$.\n",
    "\n",
    "Solving for y, we get $y = (15 - 27/5)/2 = 15/2 - 27/10 = 75/10 - 27/10 = 48/10 = 24/5$."
   ]
  },
  {
   "cell_type": "markdown",
   "id": "4f14757e",
   "metadata": {},
   "source": [
    "So the system is linear with matrix $M = [9/5, 24/5]^T$."
   ]
  },
  {
   "cell_type": "markdown",
   "id": "82f559c7",
   "metadata": {},
   "source": [
    "### c)"
   ]
  },
  {
   "cell_type": "markdown",
   "id": "28768b73",
   "metadata": {},
   "source": [
    "[2, 6] → [3, 7]\n",
    "\n",
    "[1, -2] → [-1, 3]\n",
    "\n",
    "[5, 0] → [1, 4]"
   ]
  },
  {
   "cell_type": "markdown",
   "id": "4aca5463",
   "metadata": {},
   "source": [
    "This might be a linear system. If so, it has a 2x2 matrix $M = [[a, b], [c, d]]$ and these observations correspond to the system of equations\n",
    "\n",
    "$2a + 6b = 3, 2c + 6d = 7$\n",
    "\n",
    "$a - 2b = -1, c - 2d = 3$\n",
    "\n",
    "$5a = 1, 5c = 4$.\n",
    "\n",
    "The third observation says $a = 1/5$.\n",
    "\n",
    "Substituting $1/5$ for $a$ in the second equation gives\n",
    "\n",
    "$1/5 - 2b = -1$, so\n",
    "\n",
    "$b = (-4/5)/-2 = 2/5$."
   ]
  },
  {
   "cell_type": "markdown",
   "id": "077512df",
   "metadata": {},
   "source": [
    "Are these values for $a = 1/5$ and $b = 2/5$, derived from the second and third observation, consistent with the first observation $2a + 6b = 3$?"
   ]
  },
  {
   "cell_type": "markdown",
   "id": "78297ad3",
   "metadata": {},
   "source": [
    "$2(1/5) + 6(2/5) = 14/5 \\neq 3$.\n",
    "\n",
    "So the three observations are not consistent assuming any linear system. The system is not linear."
   ]
  },
  {
   "cell_type": "markdown",
   "id": "d044e4ea",
   "metadata": {},
   "source": [
    "### d)"
   ]
  },
  {
   "cell_type": "markdown",
   "id": "50eb00d8",
   "metadata": {},
   "source": [
    "[3, 1.5] → [-3, -6]\n",
    "\n",
    "[-8, -4] → [8, 16]"
   ]
  },
  {
   "cell_type": "markdown",
   "id": "50d7804b",
   "metadata": {},
   "source": [
    "This might be a linear system. If so, it has matrix $M = [[a, b], [c, d]]$ and these observations correspond to the system of equations"
   ]
  },
  {
   "cell_type": "markdown",
   "id": "b70a52c4",
   "metadata": {},
   "source": [
    "$3a + 1.5b = -3, 3c + 1.5d = -6$\n",
    "\n",
    "$-8a - 4b = 8, -8c - 4d = 16$."
   ]
  },
  {
   "cell_type": "markdown",
   "id": "f098c3dc",
   "metadata": {},
   "source": [
    "This is two systems of equations, one in $a, b$ and one in $c, d$.\n",
    "\n",
    "Solving for b in terms of a and d in terms of c gives\n",
    "\n",
    "$b = -2a - 2$ and\n",
    "\n",
    "$d = -2c - 4$."
   ]
  },
  {
   "cell_type": "markdown",
   "id": "44d49698",
   "metadata": {},
   "source": [
    "There are many choices of $a, b$ and $c, d$ which satisfy the equations above. Let $a = 1$ and $c = 1$. Then $b = -4$ and $d = -6$."
   ]
  },
  {
   "cell_type": "markdown",
   "id": "cd2a073a",
   "metadata": {},
   "source": [
    "So if the system is linear, $M = [[1, -4], [1, -6]]$ is one matrix explaining the observations. But there are many such matrices (we can find one starting from any $a$ and $c$ by choosing $b$ and $d$ appropriately)."
   ]
  },
  {
   "cell_type": "code",
   "execution_count": null,
   "id": "a897bed5",
   "metadata": {},
   "outputs": [],
   "source": []
  }
 ],
 "metadata": {
  "kernelspec": {
   "display_name": "Python 3",
   "language": "python",
   "name": "python3"
  },
  "language_info": {
   "codemirror_mode": {
    "name": "ipython",
    "version": 3
   },
   "file_extension": ".py",
   "mimetype": "text/x-python",
   "name": "python",
   "nbconvert_exporter": "python",
   "pygments_lexer": "ipython3",
   "version": "3.10.6"
  }
 },
 "nbformat": 4,
 "nbformat_minor": 5
}
